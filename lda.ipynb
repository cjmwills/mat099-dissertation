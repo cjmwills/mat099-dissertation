{
 "cells": [
  {
   "cell_type": "markdown",
   "metadata": {},
   "source": [
    "### Latent Dirichlet Allocation (LDA)"
   ]
  },
  {
   "cell_type": "code",
   "execution_count": 10,
   "metadata": {},
   "outputs": [],
   "source": [
    "import joblib"
   ]
  },
  {
   "cell_type": "code",
   "execution_count": 11,
   "metadata": {},
   "outputs": [],
   "source": [
    "vectorizer = joblib.load(\"outputs/lda_vectorizer_june_5000.pkl\")\n",
    "lda = joblib.load(\"outputs/lda_model_june_5000.pkl\")"
   ]
  },
  {
   "cell_type": "code",
   "execution_count": 12,
   "metadata": {},
   "outputs": [
    {
     "name": "stdout",
     "output_type": "stream",
     "text": [
      "\n",
      "Topic 1: sirt7 ptidase aminope nzyme childre\n",
      "\n",
      "Topic 2: sphenomorphus quenby siobhan zarko alfi\n",
      "\n",
      "Topic 3: patients cells et al virus\n",
      "\n",
      "Topic 4: clfa arnase sar114 abl3c3 wupyv\n",
      "\n",
      "Topic 5: apmv samd4a crrnas crrna pspcas13b\n"
     ]
    }
   ],
   "source": [
    "# taken from https://www.kaggle.com/danielwolffram/topic-modeling-finding-related-articles#Latend-Dirichlet-Allocation\n",
    "for topic_idx, topic in enumerate(lda.components_):\n",
    "    feature_names = vectorizer.get_feature_names_out()\n",
    "    message = f'\\nTopic {topic_idx + 1}: '\n",
    "    message += \" \".join([feature_names[i] for i in topic.argsort()[:-5 - 1:-1]])\n",
    "    print(message)"
   ]
  }
 ],
 "metadata": {
  "kernelspec": {
   "display_name": "Python 3.9.12 ('mat099')",
   "language": "python",
   "name": "python3"
  },
  "language_info": {
   "codemirror_mode": {
    "name": "ipython",
    "version": 3
   },
   "file_extension": ".py",
   "mimetype": "text/x-python",
   "name": "python",
   "nbconvert_exporter": "python",
   "pygments_lexer": "ipython3",
   "version": "3.9.12"
  },
  "orig_nbformat": 4,
  "vscode": {
   "interpreter": {
    "hash": "bc1d07306176b222eaafa12c90663e0030376ae09cf08833d8be3832e6c88b0d"
   }
  }
 },
 "nbformat": 4,
 "nbformat_minor": 2
}
