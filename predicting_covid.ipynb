{
 "cells": [
  {
   "cell_type": "markdown",
   "metadata": {},
   "source": [
    "# Imports"
   ]
  },
  {
   "cell_type": "code",
   "execution_count": 142,
   "metadata": {},
   "outputs": [],
   "source": [
    "import pandas as pd\n",
    "import numpy as np\n",
    "import matplotlib.pyplot as plt\n",
    "import seaborn as sns\n",
    "from sklearn.preprocessing import OneHotEncoder, StandardScaler"
   ]
  },
  {
   "cell_type": "markdown",
   "metadata": {},
   "source": [
    "# Load data"
   ]
  },
  {
   "cell_type": "code",
   "execution_count": 2,
   "metadata": {},
   "outputs": [],
   "source": [
    "data = pd.read_csv(\"Data/mexico_supervised.csv\")"
   ]
  },
  {
   "cell_type": "markdown",
   "metadata": {},
   "source": [
    "# Covert column names"
   ]
  },
  {
   "cell_type": "markdown",
   "metadata": {},
   "source": [
    "As the column names are in Spanish we'll need to translate them to English."
   ]
  },
  {
   "cell_type": "code",
   "execution_count": 3,
   "metadata": {},
   "outputs": [],
   "source": [
    "column_names_mapping = {\n",
    "    'RESULTADO':'test_result',\n",
    "    'ENTIDAD':'state',\n",
    "    'EDAD':'age',\n",
    "    'SEXO':'sex',\n",
    "    'NEUMONIA':'pneumonia',\n",
    "    'DIABETES':'diabetes',\n",
    "    'ASMA':'asthma',\n",
    "    'OTRA_COM': 'other_disease',\n",
    "    'OTRO_CASO':'positive_contact',\n",
    "    'HIPERTENSION':'hypertension',\n",
    "    'CARDIOVASCULAR':'cardiovascular',\n",
    "    'OBESIDAD':'obesity',\n",
    "    'TABAQUISMO':'smoking',\n",
    "    'EMBARAZO':'pregnant',\n",
    "    'UCI':'icu'\n",
    "}"
   ]
  },
  {
   "cell_type": "code",
   "execution_count": 4,
   "metadata": {},
   "outputs": [],
   "source": [
    "data.rename(column_names_mapping, inplace=True, axis=1)"
   ]
  },
  {
   "cell_type": "markdown",
   "metadata": {},
   "source": [
    "# Explore data\n",
    "\n",
    "Split features and target variable and inspect values."
   ]
  },
  {
   "cell_type": "code",
   "execution_count": 44,
   "metadata": {},
   "outputs": [],
   "source": [
    "features = ['state', 'age', 'sex', 'pneumonia', 'other_disease', 'positive_contact', 'diabetes', 'asthma', 'hypertension', 'cardiovascular', 'obesity', 'smoking', 'pregnant', 'icu']\n",
    "target = ['test_result']"
   ]
  },
  {
   "cell_type": "code",
   "execution_count": 45,
   "metadata": {},
   "outputs": [],
   "source": [
    "X = data[features]\n",
    "y = data[target]"
   ]
  },
  {
   "cell_type": "markdown",
   "metadata": {},
   "source": [
    "## Target\n",
    "\n",
    "Explore the distribution of the target variable and map values to 0 = negative and 1 = positive to follow convention."
   ]
  },
  {
   "cell_type": "code",
   "execution_count": 46,
   "metadata": {},
   "outputs": [
    {
     "name": "stdout",
     "output_type": "stream",
     "text": [
      "<class 'pandas.core.frame.DataFrame'>\n",
      "RangeIndex: 263007 entries, 0 to 263006\n",
      "Data columns (total 1 columns):\n",
      " #   Column       Non-Null Count   Dtype\n",
      "---  ------       --------------   -----\n",
      " 0   test_result  263007 non-null  int64\n",
      "dtypes: int64(1)\n",
      "memory usage: 2.0 MB\n"
     ]
    }
   ],
   "source": [
    "y.info()"
   ]
  },
  {
   "cell_type": "code",
   "execution_count": 47,
   "metadata": {},
   "outputs": [
    {
     "data": {
      "text/plain": [
       "test_result\n",
       "2              160348\n",
       "1              102659\n",
       "dtype: int64"
      ]
     },
     "execution_count": 47,
     "metadata": {},
     "output_type": "execute_result"
    }
   ],
   "source": [
    "y.value_counts()"
   ]
  },
  {
   "cell_type": "code",
   "execution_count": 48,
   "metadata": {},
   "outputs": [
    {
     "name": "stderr",
     "output_type": "stream",
     "text": [
      "<ipython-input-48-75a0ac8798ca>:1: SettingWithCopyWarning: \n",
      "A value is trying to be set on a copy of a slice from a DataFrame.\n",
      "Try using .loc[row_indexer,col_indexer] = value instead\n",
      "\n",
      "See the caveats in the documentation: https://pandas.pydata.org/pandas-docs/stable/user_guide/indexing.html#returning-a-view-versus-a-copy\n",
      "  y['test_result'] = y['test_result'].map({1:1, 2:0})\n"
     ]
    }
   ],
   "source": [
    "y['test_result'] = y['test_result'].map({1:1, 2:0})"
   ]
  },
  {
   "cell_type": "code",
   "execution_count": 49,
   "metadata": {},
   "outputs": [
    {
     "data": {
      "text/plain": [
       "test_result\n",
       "0              160348\n",
       "1              102659\n",
       "dtype: int64"
      ]
     },
     "execution_count": 49,
     "metadata": {},
     "output_type": "execute_result"
    }
   ],
   "source": [
    "y.value_counts()"
   ]
  },
  {
   "cell_type": "code",
   "execution_count": 50,
   "metadata": {},
   "outputs": [
    {
     "data": {
      "text/plain": [
       "test_result\n",
       "0              0.609672\n",
       "1              0.390328\n",
       "dtype: float64"
      ]
     },
     "execution_count": 50,
     "metadata": {},
     "output_type": "execute_result"
    }
   ],
   "source": [
    "y.value_counts(normalize=True)"
   ]
  },
  {
   "cell_type": "code",
   "execution_count": 51,
   "metadata": {},
   "outputs": [
    {
     "data": {
      "image/png": "[encoded data removed]",
      "text/plain": [
       "<Figure size 432x288 with 1 Axes>"
      ]
     },
     "metadata": {
      "needs_background": "light"
     },
     "output_type": "display_data"
    }
   ],
   "source": [
    "sns.countplot(x='test_result', data=y)\n",
    "plt.show()"
   ]
  },
  {
   "cell_type": "markdown",
   "metadata": {},
   "source": [
    "## Features"
   ]
  },
  {
   "cell_type": "code",
   "execution_count": 52,
   "metadata": {},
   "outputs": [
    {
     "name": "stderr",
     "output_type": "stream",
     "text": [
      "c:\\Users\\charl\\anaconda3\\lib\\site-packages\\pandas\\core\\frame.py:3065: SettingWithCopyWarning: \n",
      "A value is trying to be set on a copy of a slice from a DataFrame.\n",
      "Try using .loc[row_indexer,col_indexer] = value instead\n",
      "\n",
      "See the caveats in the documentation: https://pandas.pydata.org/pandas-docs/stable/user_guide/indexing.html#returning-a-view-versus-a-copy\n",
      "  self[k1] = value[k2]\n"
     ]
    }
   ],
   "source": [
    "categorical_cols = ['sex', 'pneumonia', 'other_disease', 'positive_contact', 'diabetes', 'asthma', 'hypertension', 'cardiovascular', 'obesity', 'smoking', 'pregnant', 'icu']\n",
    "X[categorical_cols] = X[categorical_cols].replace({2:0, 97:np.nan, 98:np.nan, 99:np.nan})"
   ]
  },
  {
   "cell_type": "code",
   "execution_count": 14,
   "metadata": {},
   "outputs": [
    {
     "name": "stdout",
     "output_type": "stream",
     "text": [
      "<class 'pandas.core.frame.DataFrame'>\n",
      "RangeIndex: 263007 entries, 0 to 263006\n",
      "Data columns (total 14 columns):\n",
      " #   Column            Non-Null Count   Dtype  \n",
      "---  ------            --------------   -----  \n",
      " 0   state             263007 non-null  object \n",
      " 1   age               263007 non-null  int64  \n",
      " 2   sex               263007 non-null  float64\n",
      " 3   pneumonia         262993 non-null  float64\n",
      " 4   other_disease     261663 non-null  float64\n",
      " 5   positive_contact  179893 non-null  float64\n",
      " 6   diabetes          261996 non-null  float64\n",
      " 7   asthma            262084 non-null  float64\n",
      " 8   hypertension      262069 non-null  float64\n",
      " 9   cardiovascular    262046 non-null  float64\n",
      " 10  obesity           262045 non-null  float64\n",
      " 11  smoking           262025 non-null  float64\n",
      " 12  pregnant          128141 non-null  float64\n",
      " 13  icu               62129 non-null   float64\n",
      "dtypes: float64(12), int64(1), object(1)\n",
      "memory usage: 28.1+ MB\n"
     ]
    }
   ],
   "source": [
    "X.info()"
   ]
  },
  {
   "cell_type": "code",
   "execution_count": 15,
   "metadata": {},
   "outputs": [
    {
     "data": {
      "text/html": [
       "<div>\n",
       "<style scoped>\n",
       "    .dataframe tbody tr th:only-of-type {\n",
       "        vertical-align: middle;\n",
       "    }\n",
       "\n",
       "    .dataframe tbody tr th {\n",
       "        vertical-align: top;\n",
       "    }\n",
       "\n",
       "    .dataframe thead th {\n",
       "        text-align: right;\n",
       "    }\n",
       "</style>\n",
       "<table border=\"1\" class=\"dataframe\">\n",
       "  <thead>\n",
       "    <tr style=\"text-align: right;\">\n",
       "      <th></th>\n",
       "      <th>age</th>\n",
       "      <th>sex</th>\n",
       "      <th>pneumonia</th>\n",
       "      <th>other_disease</th>\n",
       "      <th>positive_contact</th>\n",
       "      <th>diabetes</th>\n",
       "      <th>asthma</th>\n",
       "      <th>hypertension</th>\n",
       "      <th>cardiovascular</th>\n",
       "      <th>obesity</th>\n",
       "      <th>smoking</th>\n",
       "      <th>pregnant</th>\n",
       "      <th>icu</th>\n",
       "    </tr>\n",
       "  </thead>\n",
       "  <tbody>\n",
       "    <tr>\n",
       "      <th>count</th>\n",
       "      <td>263007.000000</td>\n",
       "      <td>263007.000000</td>\n",
       "      <td>262993.000000</td>\n",
       "      <td>261663.000000</td>\n",
       "      <td>179893.000000</td>\n",
       "      <td>261996.000000</td>\n",
       "      <td>262084.000000</td>\n",
       "      <td>262069.000000</td>\n",
       "      <td>262046.000000</td>\n",
       "      <td>262045.000000</td>\n",
       "      <td>262025.000000</td>\n",
       "      <td>128141.000000</td>\n",
       "      <td>62129.000000</td>\n",
       "    </tr>\n",
       "    <tr>\n",
       "      <th>mean</th>\n",
       "      <td>42.591627</td>\n",
       "      <td>0.489318</td>\n",
       "      <td>0.162179</td>\n",
       "      <td>0.036799</td>\n",
       "      <td>0.540410</td>\n",
       "      <td>0.129811</td>\n",
       "      <td>0.036320</td>\n",
       "      <td>0.168795</td>\n",
       "      <td>0.025889</td>\n",
       "      <td>0.166987</td>\n",
       "      <td>0.090560</td>\n",
       "      <td>0.016107</td>\n",
       "      <td>0.075585</td>\n",
       "    </tr>\n",
       "    <tr>\n",
       "      <th>std</th>\n",
       "      <td>16.903824</td>\n",
       "      <td>0.499887</td>\n",
       "      <td>0.368616</td>\n",
       "      <td>0.188269</td>\n",
       "      <td>0.498366</td>\n",
       "      <td>0.336096</td>\n",
       "      <td>0.187087</td>\n",
       "      <td>0.374572</td>\n",
       "      <td>0.158803</td>\n",
       "      <td>0.372965</td>\n",
       "      <td>0.286983</td>\n",
       "      <td>0.125889</td>\n",
       "      <td>0.264335</td>\n",
       "    </tr>\n",
       "    <tr>\n",
       "      <th>min</th>\n",
       "      <td>0.000000</td>\n",
       "      <td>0.000000</td>\n",
       "      <td>0.000000</td>\n",
       "      <td>0.000000</td>\n",
       "      <td>0.000000</td>\n",
       "      <td>0.000000</td>\n",
       "      <td>0.000000</td>\n",
       "      <td>0.000000</td>\n",
       "      <td>0.000000</td>\n",
       "      <td>0.000000</td>\n",
       "      <td>0.000000</td>\n",
       "      <td>0.000000</td>\n",
       "      <td>0.000000</td>\n",
       "    </tr>\n",
       "    <tr>\n",
       "      <th>25%</th>\n",
       "      <td>31.000000</td>\n",
       "      <td>0.000000</td>\n",
       "      <td>0.000000</td>\n",
       "      <td>0.000000</td>\n",
       "      <td>0.000000</td>\n",
       "      <td>0.000000</td>\n",
       "      <td>0.000000</td>\n",
       "      <td>0.000000</td>\n",
       "      <td>0.000000</td>\n",
       "      <td>0.000000</td>\n",
       "      <td>0.000000</td>\n",
       "      <td>0.000000</td>\n",
       "      <td>0.000000</td>\n",
       "    </tr>\n",
       "    <tr>\n",
       "      <th>50%</th>\n",
       "      <td>41.000000</td>\n",
       "      <td>0.000000</td>\n",
       "      <td>0.000000</td>\n",
       "      <td>0.000000</td>\n",
       "      <td>1.000000</td>\n",
       "      <td>0.000000</td>\n",
       "      <td>0.000000</td>\n",
       "      <td>0.000000</td>\n",
       "      <td>0.000000</td>\n",
       "      <td>0.000000</td>\n",
       "      <td>0.000000</td>\n",
       "      <td>0.000000</td>\n",
       "      <td>0.000000</td>\n",
       "    </tr>\n",
       "    <tr>\n",
       "      <th>75%</th>\n",
       "      <td>53.000000</td>\n",
       "      <td>1.000000</td>\n",
       "      <td>0.000000</td>\n",
       "      <td>0.000000</td>\n",
       "      <td>1.000000</td>\n",
       "      <td>0.000000</td>\n",
       "      <td>0.000000</td>\n",
       "      <td>0.000000</td>\n",
       "      <td>0.000000</td>\n",
       "      <td>0.000000</td>\n",
       "      <td>0.000000</td>\n",
       "      <td>0.000000</td>\n",
       "      <td>0.000000</td>\n",
       "    </tr>\n",
       "    <tr>\n",
       "      <th>max</th>\n",
       "      <td>120.000000</td>\n",
       "      <td>1.000000</td>\n",
       "      <td>1.000000</td>\n",
       "      <td>1.000000</td>\n",
       "      <td>1.000000</td>\n",
       "      <td>1.000000</td>\n",
       "      <td>1.000000</td>\n",
       "      <td>1.000000</td>\n",
       "      <td>1.000000</td>\n",
       "      <td>1.000000</td>\n",
       "      <td>1.000000</td>\n",
       "      <td>1.000000</td>\n",
       "      <td>1.000000</td>\n",
       "    </tr>\n",
       "  </tbody>\n",
       "</table>\n",
       "</div>"
      ],
      "text/plain": [
       "                 age            sex      pneumonia  other_disease  \\\n",
       "count  263007.000000  263007.000000  262993.000000  261663.000000   \n",
       "mean       42.591627       0.489318       0.162179       0.036799   \n",
       "std        16.903824       0.499887       0.368616       0.188269   \n",
       "min         0.000000       0.000000       0.000000       0.000000   \n",
       "25%        31.000000       0.000000       0.000000       0.000000   \n",
       "50%        41.000000       0.000000       0.000000       0.000000   \n",
       "75%        53.000000       1.000000       0.000000       0.000000   \n",
       "max       120.000000       1.000000       1.000000       1.000000   \n",
       "\n",
       "       positive_contact       diabetes         asthma   hypertension  \\\n",
       "count     179893.000000  261996.000000  262084.000000  262069.000000   \n",
       "mean           0.540410       0.129811       0.036320       0.168795   \n",
       "std            0.498366       0.336096       0.187087       0.374572   \n",
       "min            0.000000       0.000000       0.000000       0.000000   \n",
       "25%            0.000000       0.000000       0.000000       0.000000   \n",
       "50%            1.000000       0.000000       0.000000       0.000000   \n",
       "75%            1.000000       0.000000       0.000000       0.000000   \n",
       "max            1.000000       1.000000       1.000000       1.000000   \n",
       "\n",
       "       cardiovascular        obesity        smoking       pregnant  \\\n",
       "count   262046.000000  262045.000000  262025.000000  128141.000000   \n",
       "mean         0.025889       0.166987       0.090560       0.016107   \n",
       "std          0.158803       0.372965       0.286983       0.125889   \n",
       "min          0.000000       0.000000       0.000000       0.000000   \n",
       "25%          0.000000       0.000000       0.000000       0.000000   \n",
       "50%          0.000000       0.000000       0.000000       0.000000   \n",
       "75%          0.000000       0.000000       0.000000       0.000000   \n",
       "max          1.000000       1.000000       1.000000       1.000000   \n",
       "\n",
       "                icu  \n",
       "count  62129.000000  \n",
       "mean       0.075585  \n",
       "std        0.264335  \n",
       "min        0.000000  \n",
       "25%        0.000000  \n",
       "50%        0.000000  \n",
       "75%        0.000000  \n",
       "max        1.000000  "
      ]
     },
     "execution_count": 15,
     "metadata": {},
     "output_type": "execute_result"
    }
   ],
   "source": [
    "X.describe()"
   ]
  },
  {
   "cell_type": "code",
   "execution_count": 16,
   "metadata": {},
   "outputs": [
    {
     "name": "stdout",
     "output_type": "stream",
     "text": [
      "\n",
      "sex\n",
      "---\n",
      "0.0    0.510682\n",
      "1.0    0.489318\n",
      "Name: sex, dtype: float64\n",
      "\n",
      "pneumonia\n",
      "---\n",
      "0.0    0.837776\n",
      "1.0    0.162171\n",
      "NaN    0.000053\n",
      "Name: pneumonia, dtype: float64\n",
      "\n",
      "other_disease\n",
      "---\n",
      "0.0    0.958279\n",
      "1.0    0.036611\n",
      "NaN    0.005110\n",
      "Name: other_disease, dtype: float64\n",
      "\n",
      "positive_contact\n",
      "---\n",
      "1.0    0.369633\n",
      "NaN    0.316014\n",
      "0.0    0.314353\n",
      "Name: positive_contact, dtype: float64\n",
      "\n",
      "diabetes\n",
      "---\n",
      "0.0    0.866844\n",
      "1.0    0.129312\n",
      "NaN    0.003844\n",
      "Name: diabetes, dtype: float64\n",
      "\n",
      "asthma\n",
      "---\n",
      "0.0    0.960298\n",
      "1.0    0.036193\n",
      "NaN    0.003509\n",
      "Name: asthma, dtype: float64\n",
      "\n",
      "hypertension\n",
      "---\n",
      "0.0    0.828240\n",
      "1.0    0.168193\n",
      "NaN    0.003566\n",
      "Name: hypertension, dtype: float64\n",
      "\n",
      "cardiovascular\n",
      "---\n",
      "0.0    0.970552\n",
      "1.0    0.025794\n",
      "NaN    0.003654\n",
      "Name: cardiovascular, dtype: float64\n",
      "\n",
      "obesity\n",
      "---\n",
      "0.0    0.829967\n",
      "1.0    0.166376\n",
      "NaN    0.003658\n",
      "Name: obesity, dtype: float64\n",
      "\n",
      "smoking\n",
      "---\n",
      "0.0    0.906044\n",
      "1.0    0.090222\n",
      "NaN    0.003734\n",
      "Name: smoking, dtype: float64\n",
      "\n",
      "pregnant\n",
      "---\n",
      "NaN    0.512785\n",
      "0.0    0.479367\n",
      "1.0    0.007848\n",
      "Name: pregnant, dtype: float64\n",
      "\n",
      "icu\n",
      "---\n",
      "NaN    0.763774\n",
      "0.0    0.218371\n",
      "1.0    0.017855\n",
      "Name: icu, dtype: float64\n"
     ]
    }
   ],
   "source": [
    "for feature in categorical_cols:\n",
    "    print(f'\\n{feature}\\n---')\n",
    "    print(X[feature].value_counts(normalize=True, dropna=False))"
   ]
  },
  {
   "cell_type": "code",
   "execution_count": 17,
   "metadata": {},
   "outputs": [
    {
     "data": {
      "image/png": "[encoded data removed]",
      "text/plain": [
       "<Figure size 432x288 with 1 Axes>"
      ]
     },
     "metadata": {
      "needs_background": "light"
     },
     "output_type": "display_data"
    },
    {
     "data": {
      "image/png": "[encoded data removed]",
      "text/plain": [
       "<Figure size 432x288 with 1 Axes>"
      ]
     },
     "metadata": {
      "needs_background": "light"
     },
     "output_type": "display_data"
    },
    {
     "data": {
      "image/png": "[encoded data removed]",
      "text/plain": [
       "<Figure size 432x288 with 1 Axes>"
      ]
     },
     "metadata": {
      "needs_background": "light"
     },
     "output_type": "display_data"
    },
    {
     "data": {
      "image/png": "[encoded data removed]",
      "text/plain": [
       "<Figure size 432x288 with 1 Axes>"
      ]
     },
     "metadata": {
      "needs_background": "light"
     },
     "output_type": "display_data"
    },
    {
     "data": {
      "image/png": "[encoded data removed]",
      "text/plain": [
       "<Figure size 432x288 with 1 Axes>"
      ]
     },
     "metadata": {
      "needs_background": "light"
     },
     "output_type": "display_data"
    },
    {
     "data": {
      "image/png": "[encoded data removed]",
      "text/plain": [
       "<Figure size 432x288 with 1 Axes>"
      ]
     },
     "metadata": {
      "needs_background": "light"
     },
     "output_type": "display_data"
    },
    {
     "data": {
      "image/png": "[encoded data removed]",
      "text/plain": [
       "<Figure size 432x288 with 1 Axes>"
      ]
     },
     "metadata": {
      "needs_background": "light"
     },
     "output_type": "display_data"
    },
    {
     "data": {
      "image/png": "[encoded data removed]",
      "text/plain": [
       "<Figure size 432x288 with 1 Axes>"
      ]
     },
     "metadata": {
      "needs_background": "light"
     },
     "output_type": "display_data"
    },
    {
     "data": {
      "image/png": "[encoded data removed]",
      "text/plain": [
       "<Figure size 432x288 with 1 Axes>"
      ]
     },
     "metadata": {
      "needs_background": "light"
     },
     "output_type": "display_data"
    },
    {
     "data": {
      "image/png": "[encoded data removed]",
      "text/plain": [
       "<Figure size 432x288 with 1 Axes>"
      ]
     },
     "metadata": {
      "needs_background": "light"
     },
     "output_type": "display_data"
    },
    {
     "data": {
      "image/png": "[encoded data removed]",
      "text/plain": [
       "<Figure size 432x288 with 1 Axes>"
      ]
     },
     "metadata": {
      "needs_background": "light"
     },
     "output_type": "display_data"
    },
    {
     "data": {
      "image/png": "[encoded data removed]",
      "text/plain": [
       "<Figure size 432x288 with 1 Axes>"
      ]
     },
     "metadata": {
      "needs_background": "light"
     },
     "output_type": "display_data"
    }
   ],
   "source": [
    "for feature in categorical_cols:\n",
    "    sns.barplot(x=X[feature], y=y['test_result'], ci=None)\n",
    "    plt.show()"
   ]
  },
  {
   "cell_type": "code",
   "execution_count": 53,
   "metadata": {},
   "outputs": [
    {
     "name": "stdout",
     "output_type": "stream",
     "text": [
      "160348\n",
      "102659\n"
     ]
    }
   ],
   "source": [
    "print(len(X['age'][y['test_result'] == 0]))\n",
    "print(len(X['age'][y['test_result'] == 1]))"
   ]
  },
  {
   "cell_type": "code",
   "execution_count": 138,
   "metadata": {},
   "outputs": [
    {
     "data": {
      "image/png": "[encoded data removed]",
      "text/plain": [
       "<Figure size 432x288 with 1 Axes>"
      ]
     },
     "metadata": {
      "needs_background": "light"
     },
     "output_type": "display_data"
    }
   ],
   "source": [
    "sns.histplot(x=X['age'], stat='probability')\n",
    "plt.legend(['All test results'])\n",
    "plt.show()"
   ]
  },
  {
   "cell_type": "code",
   "execution_count": 141,
   "metadata": {},
   "outputs": [
    {
     "data": {
      "image/png": "[encoded data removed]",
      "text/plain": [
       "<Figure size 432x288 with 1 Axes>"
      ]
     },
     "metadata": {
      "needs_background": "light"
     },
     "output_type": "display_data"
    }
   ],
   "source": [
    "sns.histplot(x=X['age'][y['test_result'] == 0], label='Negative test result', stat='probability', kde=True)\n",
    "sns.histplot(x=X['age'][y['test_result'] == 1], color='red', label='Positive test result', stat='probability', kde=True)\n",
    "\n",
    "plt.legend()\n",
    "plt.show()"
   ]
  },
  {
   "cell_type": "code",
   "execution_count": 22,
   "metadata": {},
   "outputs": [
    {
     "data": {
      "text/plain": [
       "Ciudad de Mexico    0.234690\n",
       "Mexico              0.135936\n",
       "Jalisco             0.050128\n",
       "Guanajuato          0.049809\n",
       "Nuevo Leon          0.048714\n",
       "Tabasco             0.038094\n",
       "Baja California     0.033858\n",
       "Puebla              0.031319\n",
       "Veracruz            0.030151\n",
       "Tamaulipas          0.029319\n",
       "Name: state, dtype: float64"
      ]
     },
     "execution_count": 22,
     "metadata": {},
     "output_type": "execute_result"
    }
   ],
   "source": [
    "X['state'].value_counts(normalize=True).head(10)"
   ]
  },
  {
   "cell_type": "markdown",
   "metadata": {},
   "source": [
    "# Feature engineering"
   ]
  },
  {
   "cell_type": "markdown",
   "metadata": {},
   "source": [
    "Perform rare-encoding on values with <3% of rows."
   ]
  },
  {
   "cell_type": "code",
   "execution_count": 54,
   "metadata": {},
   "outputs": [
    {
     "name": "stdout",
     "output_type": "stream",
     "text": [
      "['Tamaulipas', 'Coahuila', 'Sinaloa', 'Michoacan', 'Sonora', 'Yucatan', 'San Luis Potosi', 'Aguascalientes', 'Guerrero', 'Chihuahua', 'Hidalgo', 'Quintana Roo', 'Oaxaca', 'Chiapas', 'Tlaxcala', 'Morelos', 'Queretaro', 'Durango', 'Baja California Sur', 'Nayarit', 'Zacatecas', 'Campeche', 'Colima']\n"
     ]
    }
   ],
   "source": [
    "state_prop = X['state'].value_counts(normalize=True)\n",
    "rare_states = state_prop[state_prop < 0.03].index.tolist()\n",
    "print(rare_states)"
   ]
  },
  {
   "cell_type": "code",
   "execution_count": 55,
   "metadata": {},
   "outputs": [
    {
     "name": "stderr",
     "output_type": "stream",
     "text": [
      "c:\\Users\\charl\\anaconda3\\lib\\site-packages\\pandas\\core\\series.py:4563: SettingWithCopyWarning: \n",
      "A value is trying to be set on a copy of a slice from a DataFrame\n",
      "\n",
      "See the caveats in the documentation: https://pandas.pydata.org/pandas-docs/stable/user_guide/indexing.html#returning-a-view-versus-a-copy\n",
      "  return super().replace(\n"
     ]
    },
    {
     "data": {
      "text/plain": [
       "Other               0.347303\n",
       "Ciudad de Mexico    0.234690\n",
       "Mexico              0.135936\n",
       "Jalisco             0.050128\n",
       "Guanajuato          0.049809\n",
       "Nuevo Leon          0.048714\n",
       "Tabasco             0.038094\n",
       "Baja California     0.033858\n",
       "Puebla              0.031319\n",
       "Veracruz            0.030151\n",
       "Name: state, dtype: float64"
      ]
     },
     "execution_count": 55,
     "metadata": {},
     "output_type": "execute_result"
    }
   ],
   "source": [
    "X['state'].replace(to_replace=rare_states, value=\"Other\", inplace=True)\n",
    "X['state'].value_counts(normalize=True)"
   ]
  },
  {
   "cell_type": "code",
   "execution_count": 56,
   "metadata": {},
   "outputs": [
    {
     "data": {
      "image/png": "[encoded data removed]",
      "text/plain": [
       "<Figure size 432x288 with 1 Axes>"
      ]
     },
     "metadata": {
      "needs_background": "light"
     },
     "output_type": "display_data"
    }
   ],
   "source": [
    "sns.barplot(y=X['state'], x=y['test_result'], orient='h')\n",
    "plt.show()"
   ]
  },
  {
   "cell_type": "code",
   "execution_count": 61,
   "metadata": {},
   "outputs": [],
   "source": [
    "X = pd.get_dummies(X, columns=['state'])"
   ]
  },
  {
   "cell_type": "code",
   "execution_count": 62,
   "metadata": {},
   "outputs": [
    {
     "data": {
      "text/plain": [
       "Index(['age', 'sex', 'pneumonia', 'other_disease', 'positive_contact',\n",
       "       'diabetes', 'asthma', 'hypertension', 'cardiovascular', 'obesity',\n",
       "       'smoking', 'pregnant', 'icu', 'state_Baja California',\n",
       "       'state_Ciudad de Mexico', 'state_Guanajuato', 'state_Jalisco',\n",
       "       'state_Mexico', 'state_Nuevo Leon', 'state_Other', 'state_Puebla',\n",
       "       'state_Tabasco', 'state_Veracruz'],\n",
       "      dtype='object')"
      ]
     },
     "execution_count": 62,
     "metadata": {},
     "output_type": "execute_result"
    }
   ],
   "source": [
    "X.columns"
   ]
  },
  {
   "cell_type": "markdown",
   "metadata": {},
   "source": [
    "# Missing data"
   ]
  },
  {
   "cell_type": "code",
   "execution_count": 68,
   "metadata": {},
   "outputs": [
    {
     "data": {
      "text/plain": [
       "(263007, 23)"
      ]
     },
     "execution_count": 68,
     "metadata": {},
     "output_type": "execute_result"
    }
   ],
   "source": [
    "X.shape"
   ]
  },
  {
   "cell_type": "code",
   "execution_count": 67,
   "metadata": {},
   "outputs": [
    {
     "data": {
      "text/plain": [
       "age                            0\n",
       "sex                            0\n",
       "pneumonia                     14\n",
       "other_disease               1344\n",
       "positive_contact           83114\n",
       "diabetes                    1011\n",
       "asthma                       923\n",
       "hypertension                 938\n",
       "cardiovascular               961\n",
       "obesity                      962\n",
       "smoking                      982\n",
       "pregnant                  134866\n",
       "icu                       200878\n",
       "state_Baja California          0\n",
       "state_Ciudad de Mexico         0\n",
       "state_Guanajuato               0\n",
       "state_Jalisco                  0\n",
       "state_Mexico                   0\n",
       "state_Nuevo Leon               0\n",
       "state_Other                    0\n",
       "state_Puebla                   0\n",
       "state_Tabasco                  0\n",
       "state_Veracruz                 0\n",
       "dtype: int64"
      ]
     },
     "execution_count": 67,
     "metadata": {},
     "output_type": "execute_result"
    }
   ],
   "source": [
    "X.isnull().sum()"
   ]
  },
  {
   "cell_type": "code",
   "execution_count": 106,
   "metadata": {},
   "outputs": [],
   "source": [
    "binary_features = categorical_cols[1:]"
   ]
  },
  {
   "cell_type": "code",
   "execution_count": 105,
   "metadata": {},
   "outputs": [
    {
     "name": "stdout",
     "output_type": "stream",
     "text": [
      "0.0    220341\n",
      "1.0     42652\n",
      "Name: pneumonia, dtype: int64\n",
      "0.0    220355\n",
      "1.0     42652\n",
      "Name: pneumonia, dtype: int64\n",
      "0.0    252034\n",
      "1.0      9629\n",
      "Name: other_disease, dtype: int64\n",
      "0.0    253378\n",
      "1.0      9629\n",
      "Name: other_disease, dtype: int64\n",
      "1.0    97216\n",
      "0.0    82677\n",
      "Name: positive_contact, dtype: int64\n",
      "1.0    180330\n",
      "0.0     82677\n",
      "Name: positive_contact, dtype: int64\n",
      "0.0    227986\n",
      "1.0     34010\n",
      "Name: diabetes, dtype: int64\n",
      "0.0    228997\n",
      "1.0     34010\n",
      "Name: diabetes, dtype: int64\n",
      "0.0    252565\n",
      "1.0      9519\n",
      "Name: asthma, dtype: int64\n",
      "0.0    253488\n",
      "1.0      9519\n",
      "Name: asthma, dtype: int64\n",
      "0.0    217833\n",
      "1.0     44236\n",
      "Name: hypertension, dtype: int64\n",
      "0.0    218771\n",
      "1.0     44236\n",
      "Name: hypertension, dtype: int64\n",
      "0.0    255262\n",
      "1.0      6784\n",
      "Name: cardiovascular, dtype: int64\n",
      "0.0    256223\n",
      "1.0      6784\n",
      "Name: cardiovascular, dtype: int64\n",
      "0.0    218287\n",
      "1.0     43758\n",
      "Name: obesity, dtype: int64\n",
      "0.0    219249\n",
      "1.0     43758\n",
      "Name: obesity, dtype: int64\n",
      "0.0    238296\n",
      "1.0     23729\n",
      "Name: smoking, dtype: int64\n",
      "0.0    239278\n",
      "1.0     23729\n",
      "Name: smoking, dtype: int64\n",
      "0.0    126077\n",
      "1.0      2064\n",
      "Name: pregnant, dtype: int64\n",
      "0.0    260943\n",
      "1.0      2064\n",
      "Name: pregnant, dtype: int64\n",
      "0.0    57433\n",
      "1.0     4696\n",
      "Name: icu, dtype: int64\n",
      "0.0    258311\n",
      "1.0      4696\n",
      "Name: icu, dtype: int64\n"
     ]
    }
   ],
   "source": [
    "for feature in binary_features:\n",
    "    print(X[feature].value_counts())\n",
    "    most_frequent_val = X[feature].value_counts().index[0]\n",
    "    X[feature].fillna(most_frequent_val, inplace=True)\n",
    "    print(X[feature].value_counts())"
   ]
  },
  {
   "cell_type": "code",
   "execution_count": 107,
   "metadata": {},
   "outputs": [
    {
     "data": {
      "text/plain": [
       "age                       0\n",
       "sex                       0\n",
       "pneumonia                 0\n",
       "other_disease             0\n",
       "positive_contact          0\n",
       "diabetes                  0\n",
       "asthma                    0\n",
       "hypertension              0\n",
       "cardiovascular            0\n",
       "obesity                   0\n",
       "smoking                   0\n",
       "pregnant                  0\n",
       "icu                       0\n",
       "state_Baja California     0\n",
       "state_Ciudad de Mexico    0\n",
       "state_Guanajuato          0\n",
       "state_Jalisco             0\n",
       "state_Mexico              0\n",
       "state_Nuevo Leon          0\n",
       "state_Other               0\n",
       "state_Puebla              0\n",
       "state_Tabasco             0\n",
       "state_Veracruz            0\n",
       "dtype: int64"
      ]
     },
     "execution_count": 107,
     "metadata": {},
     "output_type": "execute_result"
    }
   ],
   "source": [
    "X.isnull().sum()"
   ]
  },
  {
   "cell_type": "markdown",
   "metadata": {},
   "source": [
    "# Standardization"
   ]
  },
  {
   "cell_type": "code",
   "execution_count": 111,
   "metadata": {},
   "outputs": [
    {
     "data": {
      "text/plain": [
       "0         74\n",
       "1         71\n",
       "2         50\n",
       "3         25\n",
       "4         28\n",
       "          ..\n",
       "263002    39\n",
       "263003    53\n",
       "263004    65\n",
       "263005    71\n",
       "263006    18\n",
       "Name: age, Length: 263007, dtype: int64"
      ]
     },
     "execution_count": 111,
     "metadata": {},
     "output_type": "execute_result"
    }
   ],
   "source": [
    "X['age']"
   ]
  },
  {
   "cell_type": "code",
   "execution_count": 114,
   "metadata": {},
   "outputs": [
    {
     "data": {
      "text/plain": [
       "StandardScaler()"
      ]
     },
     "execution_count": 114,
     "metadata": {},
     "output_type": "execute_result"
    }
   ],
   "source": [
    "scaler = StandardScaler()\n",
    "scaler.fit(X[['age']])"
   ]
  },
  {
   "cell_type": "code",
   "execution_count": 115,
   "metadata": {},
   "outputs": [],
   "source": [
    "age_scaled = scaler.transform(X[['age']])"
   ]
  },
  {
   "cell_type": "code",
   "execution_count": 130,
   "metadata": {},
   "outputs": [],
   "source": [
    "X['age_scaled'] = pd.Series(age_scaled.reshape(-1))"
   ]
  },
  {
   "cell_type": "code",
   "execution_count": 134,
   "metadata": {},
   "outputs": [
    {
     "data": {
      "image/png": "[encoded data removed]",
      "text/plain": [
       "<Figure size 432x288 with 1 Axes>"
      ]
     },
     "metadata": {
      "needs_background": "light"
     },
     "output_type": "display_data"
    }
   ],
   "source": [
    "sns.histplot(x=X['age_scaled'])\n",
    "plt.legend(['All test results'])\n",
    "plt.show()"
   ]
  },
  {
   "cell_type": "code",
   "execution_count": 139,
   "metadata": {},
   "outputs": [],
   "source": [
    "X.drop('age', axis=1, inplace=True)"
   ]
  },
  {
   "cell_type": "markdown",
   "metadata": {},
   "source": [
    "# Model building"
   ]
  },
  {
   "cell_type": "code",
   "execution_count": 141,
   "metadata": {},
   "outputs": [
    {
     "name": "stdout",
     "output_type": "stream",
     "text": [
      "<class 'pandas.core.frame.DataFrame'>\n",
      "RangeIndex: 263007 entries, 0 to 263006\n",
      "Data columns (total 23 columns):\n",
      " #   Column                  Non-Null Count   Dtype  \n",
      "---  ------                  --------------   -----  \n",
      " 0   sex                     263007 non-null  float64\n",
      " 1   pneumonia               263007 non-null  float64\n",
      " 2   other_disease           263007 non-null  float64\n",
      " 3   positive_contact        263007 non-null  float64\n",
      " 4   diabetes                263007 non-null  float64\n",
      " 5   asthma                  263007 non-null  float64\n",
      " 6   hypertension            263007 non-null  float64\n",
      " 7   cardiovascular          263007 non-null  float64\n",
      " 8   obesity                 263007 non-null  float64\n",
      " 9   smoking                 263007 non-null  float64\n",
      " 10  pregnant                263007 non-null  float64\n",
      " 11  icu                     263007 non-null  float64\n",
      " 12  state_Baja California   263007 non-null  uint8  \n",
      " 13  state_Ciudad de Mexico  263007 non-null  uint8  \n",
      " 14  state_Guanajuato        263007 non-null  uint8  \n",
      " 15  state_Jalisco           263007 non-null  uint8  \n",
      " 16  state_Mexico            263007 non-null  uint8  \n",
      " 17  state_Nuevo Leon        263007 non-null  uint8  \n",
      " 18  state_Other             263007 non-null  uint8  \n",
      " 19  state_Puebla            263007 non-null  uint8  \n",
      " 20  state_Tabasco           263007 non-null  uint8  \n",
      " 21  state_Veracruz          263007 non-null  uint8  \n",
      " 22  age_scaled              263007 non-null  float64\n",
      "dtypes: float64(13), uint8(10)\n",
      "memory usage: 28.6 MB\n"
     ]
    }
   ],
   "source": [
    "X.info()"
   ]
  },
  {
   "cell_type": "code",
   "execution_count": 181,
   "metadata": {},
   "outputs": [],
   "source": [
    "import xgboost as xgb\n",
    "from sklearn.linear_model import LogisticRegression\n",
    "from sklearn.model_selection import train_test_split, cross_val_score\n",
    "from sklearn.metrics import classification_report\n",
    "from sklearn.feature_selection import SelectKBest, f_classif"
   ]
  },
  {
   "cell_type": "code",
   "execution_count": 149,
   "metadata": {},
   "outputs": [],
   "source": [
    "np.random.seed(42)"
   ]
  },
  {
   "cell_type": "code",
   "execution_count": 156,
   "metadata": {},
   "outputs": [],
   "source": [
    "X_train, X_test, y_train, y_test = train_test_split(X, y, test_size=0.2, stratify=y)"
   ]
  },
  {
   "cell_type": "code",
   "execution_count": 170,
   "metadata": {},
   "outputs": [
    {
     "name": "stderr",
     "output_type": "stream",
     "text": [
      "c:\\Users\\charl\\anaconda3\\lib\\site-packages\\sklearn\\utils\\validation.py:72: DataConversionWarning: A column-vector y was passed when a 1d array was expected. Please change the shape of y to (n_samples, ), for example using ravel().\n",
      "  return f(**kwargs)\n"
     ]
    },
    {
     "name": "stdout",
     "output_type": "stream",
     "text": [
      "              precision    recall  f1-score   support\n",
      "\n",
      "           0       0.68      0.85      0.76    128278\n",
      "           1       0.62      0.37      0.46     82127\n",
      "\n",
      "    accuracy                           0.67    210405\n",
      "   macro avg       0.65      0.61      0.61    210405\n",
      "weighted avg       0.66      0.67      0.64    210405\n",
      "\n"
     ]
    }
   ],
   "source": [
    "log_reg = LogisticRegression()\n",
    "log_reg.fit(X_train, y_train)\n",
    "y_train_pred = log_reg.predict(X_train)\n",
    "print(classification_report(y_train, y_train_pred))"
   ]
  },
  {
   "cell_type": "code",
   "execution_count": 172,
   "metadata": {},
   "outputs": [
    {
     "name": "stderr",
     "output_type": "stream",
     "text": [
      "c:\\Users\\charl\\anaconda3\\lib\\site-packages\\sklearn\\utils\\validation.py:72: DataConversionWarning: A column-vector y was passed when a 1d array was expected. Please change the shape of y to (n_samples, ), for example using ravel().\n",
      "  return f(**kwargs)\n",
      "c:\\Users\\charl\\anaconda3\\lib\\site-packages\\sklearn\\utils\\validation.py:72: DataConversionWarning: A column-vector y was passed when a 1d array was expected. Please change the shape of y to (n_samples, ), for example using ravel().\n",
      "  return f(**kwargs)\n",
      "c:\\Users\\charl\\anaconda3\\lib\\site-packages\\sklearn\\utils\\validation.py:72: DataConversionWarning: A column-vector y was passed when a 1d array was expected. Please change the shape of y to (n_samples, ), for example using ravel().\n",
      "  return f(**kwargs)\n",
      "c:\\Users\\charl\\anaconda3\\lib\\site-packages\\sklearn\\utils\\validation.py:72: DataConversionWarning: A column-vector y was passed when a 1d array was expected. Please change the shape of y to (n_samples, ), for example using ravel().\n",
      "  return f(**kwargs)\n",
      "c:\\Users\\charl\\anaconda3\\lib\\site-packages\\sklearn\\utils\\validation.py:72: DataConversionWarning: A column-vector y was passed when a 1d array was expected. Please change the shape of y to (n_samples, ), for example using ravel().\n",
      "  return f(**kwargs)\n"
     ]
    },
    {
     "data": {
      "text/plain": [
       "array([0.66764098, 0.66581117, 0.66398137, 0.66633397, 0.66443288])"
      ]
     },
     "execution_count": 172,
     "metadata": {},
     "output_type": "execute_result"
    }
   ],
   "source": [
    "cross_val_score(LogisticRegression(), X_train, y_train, scoring=\"accuracy\")"
   ]
  },
  {
   "cell_type": "code",
   "execution_count": 167,
   "metadata": {},
   "outputs": [
    {
     "name": "stdout",
     "output_type": "stream",
     "text": [
      "              precision    recall  f1-score   support\n",
      "\n",
      "           0       0.68      0.85      0.76    128278\n",
      "           1       0.62      0.37      0.46     82127\n",
      "\n",
      "    accuracy                           0.67    210405\n",
      "   macro avg       0.65      0.61      0.61    210405\n",
      "weighted avg       0.66      0.67      0.64    210405\n",
      "\n"
     ]
    }
   ],
   "source": [
    "xgb_model = xgb.XGBClassifier()\n",
    "xgb_model.fit(X_train, y_train)\n",
    "y_train_pred = log_reg.predict(X_train)\n",
    "print(classification_report(y_train, y_train_pred))"
   ]
  },
  {
   "cell_type": "markdown",
   "metadata": {},
   "source": [
    "## Feature selection"
   ]
  },
  {
   "cell_type": "code",
   "execution_count": null,
   "metadata": {},
   "outputs": [],
   "source": [
    "scores={}\n",
    "for i in [5, 10, 15, 20, 'all']:\n",
    "    selector = SelectKBest(f_classif, k=i)\n",
    "    selector.fit(X_train, y_train)\n",
    "    features_kept = selector.get_support(indices=True)\n",
    "    X_train_reduced = selector.transform(X_train)\n",
    "    score = cross_val_score(LogisticRegression(), X_train_reduced, y_train, scoring=\"accuracy\")\n",
    "    scores[i] = [score.mean(), features_kept]"
   ]
  },
  {
   "cell_type": "code",
   "execution_count": 197,
   "metadata": {},
   "outputs": [
    {
     "data": {
      "text/plain": [
       "{5: [0.6505976568997884, array([ 1,  4, 14, 17, 22], dtype=int64)],\n",
       " 10: [0.660516622703833,\n",
       "  array([ 0,  1,  4,  6,  8, 12, 14, 15, 17, 22], dtype=int64)],\n",
       " 15: [0.6633349967919013,\n",
       "  array([ 0,  1,  4,  6,  8, 11, 12, 13, 14, 15, 16, 17, 20, 21, 22],\n",
       "        dtype=int64)],\n",
       " 20: [0.6656590860483353,\n",
       "  array([ 0,  1,  2,  4,  5,  6,  8,  9, 10, 11, 12, 13, 14, 15, 16, 17, 18,\n",
       "         20, 21, 22], dtype=int64)],\n",
       " 'all': [0.6656400750932725,\n",
       "  array([ 0,  1,  2,  3,  4,  5,  6,  7,  8,  9, 10, 11, 12, 13, 14, 15, 16,\n",
       "         17, 18, 19, 20, 21, 22], dtype=int64)]}"
      ]
     },
     "execution_count": 197,
     "metadata": {},
     "output_type": "execute_result"
    }
   ],
   "source": [
    "scores"
   ]
  },
  {
   "cell_type": "code",
   "execution_count": 192,
   "metadata": {},
   "outputs": [
    {
     "data": {
      "text/plain": [
       "Index(['pneumonia', 'diabetes', 'state_Guanajuato', 'state_Nuevo Leon',\n",
       "       'age_scaled'],\n",
       "      dtype='object')"
      ]
     },
     "execution_count": 192,
     "metadata": {},
     "output_type": "execute_result"
    }
   ],
   "source": [
    "X_train.iloc[:, features_kept].columns"
   ]
  },
  {
   "cell_type": "markdown",
   "metadata": {},
   "source": [
    "## Shapley values"
   ]
  },
  {
   "cell_type": "markdown",
   "metadata": {},
   "source": []
  }
 ],
 "metadata": {
  "kernelspec": {
   "display_name": "Python 3",
   "language": "python",
   "name": "python3"
  },
  "language_info": {
   "codemirror_mode": {
    "name": "ipython",
    "version": 3
   },
   "file_extension": ".py",
   "mimetype": "text/x-python",
   "name": "python",
   "nbconvert_exporter": "python",
   "pygments_lexer": "ipython3",
   "version": "3.8.5"
  },
  "vscode": {
   "interpreter": {
    "hash": "16196ea7eff63910081d4e10ae1bdb1eb18fd83cb470bb8efbb9fa6b0c724af5"
   }
  }
 },
 "nbformat": 4,
 "nbformat_minor": 4
}
