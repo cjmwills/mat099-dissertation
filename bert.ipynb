{
 "cells": [
  {
   "cell_type": "code",
   "execution_count": 1,
   "metadata": {},
   "outputs": [],
   "source": [
    "import matplotlib.pyplot as plt\n",
    "from collections import Counter\n",
    "import pandas as pd\n",
    "import joblib"
   ]
  },
  {
   "cell_type": "code",
   "execution_count": 9,
   "metadata": {},
   "outputs": [],
   "source": [
    "qa_results = joblib.load('outputs/bert_qa_results_august_500.pkl')"
   ]
  },
  {
   "cell_type": "code",
   "execution_count": 10,
   "metadata": {},
   "outputs": [],
   "source": [
    "# updated risk factors from word2vec\n",
    "age_synonyms = ['age', 'younger', 'older', 'ages', 'aged', 'old']\n",
    "gender_synonyms = ['gender', 'ethnicity', 'sex', 'demographics', 'occupation', 'nationality']\n",
    "sex_synonyms = ['sex', 'gender', 'ethnicity', 'breed', 'race/ethnicity', 'occupation']\n",
    "pneumonia_synonyms = ['pneumonia', 'pneumonias', 'tracheitis', 'croup', 'pharyngitis', 'bronchiolitis']\n",
    "obesity_synonyms = ['obesity', 'diabetes', 'hypertension', 'malnutrition', 'osteoporosis', 'nafld']\n",
    "diabetes_synonyms = ['diabetes', 'mellitus', 'obesity', 'hypertension', 'insulin-dependent', 'hypercholesterolemia']\n",
    "smoking_synonyms = ['smoking', 'cigarette', 'smoke', 'obesity', 'abuse', 'breastfeeding']\n",
    "cardiovascular_synonyms = ['cardiovascular', 'cardiopulmonary', 'cardiac', 'cerebrovascular', 'hypertension', 'musculoskeletal']\n",
    "location_synonyms = ['location', 'locations', 'geographical', 'distribution', 'geographic', 'temporal']\n",
    "contact_synonyms = ['contact', 'contacts', 'transmission', 'proximity', 'movement', 'exposure']\n",
    "asthma_synonyms = ['asthma', 'wheezing', 'copd', 'exacerbations', 'atopy', 'wheeze']\n",
    "cancer_synonyms = ['cancer', 'cancers', 'carcinoma', 'prostate', 'melanoma', 'tumour']\n",
    "\n",
    "candidate_risk_factors = set(age_synonyms + gender_synonyms + sex_synonyms + pneumonia_synonyms + obesity_synonyms + diabetes_synonyms + smoking_synonyms + cardiovascular_synonyms + location_synonyms + contact_synonyms + asthma_synonyms + cancer_synonyms)"
   ]
  },
  {
   "cell_type": "code",
   "execution_count": 11,
   "metadata": {},
   "outputs": [
    {
     "name": "stdout",
     "output_type": "stream",
     "text": [
      "[]\n"
     ]
    }
   ],
   "source": [
    "risk_factor_list=[]\n",
    "for result in qa_results:\n",
    "    for risk_factor in candidate_risk_factors:\n",
    "        if risk_factor in result[1].split():\n",
    "            risk_factor_list.append(risk_factor)\n",
    "\n",
    "print(risk_factor_list)"
   ]
  },
  {
   "cell_type": "code",
   "execution_count": 12,
   "metadata": {},
   "outputs": [
    {
     "name": "stdout",
     "output_type": "stream",
     "text": [
      "Counter()\n"
     ]
    }
   ],
   "source": [
    "risk_factor_count = Counter(risk_factor_list)\n",
    "print(risk_factor_count)"
   ]
  },
  {
   "cell_type": "code",
   "execution_count": 8,
   "metadata": {},
   "outputs": [
    {
     "data": {
      "image/png": "[encoded data removed]",
      "text/plain": [
       "<Figure size 432x288 with 1 Axes>"
      ]
     },
     "metadata": {
      "needs_background": "light"
     },
     "output_type": "display_data"
    }
   ],
   "source": [
    "risk_factor_df = pd.DataFrame.from_dict(risk_factor_count, orient='index')\n",
    "risk_factor_df.columns = ['count']\n",
    "risk_factor_df.sort_values(by='count', ascending=True).plot(kind='barh', legend=None)\n",
    "plt.title(\"Frequency of risk factors found in BERT QA, June\")\n",
    "plt.show()"
   ]
  }
 ],
 "metadata": {
  "kernelspec": {
   "display_name": "Python 3.9.0 ('mat099')",
   "language": "python",
   "name": "python3"
  },
  "language_info": {
   "codemirror_mode": {
    "name": "ipython",
    "version": 3
   },
   "file_extension": ".py",
   "mimetype": "text/x-python",
   "name": "python",
   "nbconvert_exporter": "python",
   "pygments_lexer": "ipython3",
   "version": "3.9.12"
  },
  "orig_nbformat": 4,
  "vscode": {
   "interpreter": {
    "hash": "bc1d07306176b222eaafa12c90663e0030376ae09cf08833d8be3832e6c88b0d"
   }
  }
 },
 "nbformat": 4,
 "nbformat_minor": 2
}
