{
 "cells": [
  {
   "cell_type": "code",
   "execution_count": 1,
   "metadata": {},
   "outputs": [
    {
     "name": "stderr",
     "output_type": "stream",
     "text": [
      "c:\\Users\\charl\\miniconda3\\envs\\mat099\\lib\\site-packages\\tqdm\\auto.py:22: TqdmWarning: IProgress not found. Please update jupyter and ipywidgets. See https://ipywidgets.readthedocs.io/en/stable/user_install.html\n",
      "  from .autonotebook import tqdm as notebook_tqdm\n"
     ]
    }
   ],
   "source": [
    "from transformers import BertTokenizer, TFBertForQuestionAnswering\n",
    "import tensorflow as tf"
   ]
  },
  {
   "cell_type": "code",
   "execution_count": 2,
   "metadata": {},
   "outputs": [],
   "source": [
    "tokenizer = BertTokenizer.from_pretrained(\"dmis-lab/biobert-base-cased-v1.1-squad\")"
   ]
  },
  {
   "cell_type": "code",
   "execution_count": 3,
   "metadata": {},
   "outputs": [
    {
     "name": "stderr",
     "output_type": "stream",
     "text": [
      "All PyTorch model weights were used when initializing TFBertForQuestionAnswering.\n",
      "\n",
      "All the weights of TFBertForQuestionAnswering were initialized from the PyTorch model.\n",
      "If your task is similar to the task the model of the checkpoint was trained on, you can already use TFBertForQuestionAnswering for predictions without further training.\n"
     ]
    }
   ],
   "source": [
    "model = TFBertForQuestionAnswering.from_pretrained(\"dmis-lab/biobert-base-cased-v1.1-squad\", from_pt=True)"
   ]
  },
  {
   "cell_type": "code",
   "execution_count": 26,
   "metadata": {},
   "outputs": [],
   "source": [
    "question = \"What reduces risk of Covid-19?\"\n",
    "text = \"\"\"\n",
    "Coronavirus (COVID-19) can make anyone seriously ill. But for some people, the risk is higher.\n",
    "At some point during the COVID-19 pandemic you may have been told you were at high risk of getting seriously ill from COVID-19 (sometimes called clinically vulnerable or clinically extremely vulnerable). You may also have been advised to stay at home (shield).\n",
    "For most people at high risk from COVID-19, vaccination has significantly reduced this risk. You can follow the same advice as everyone else on how to avoid catching and spreading COVID-19.\n",
    "Some people continue to be at high risk from COVID-19, despite vaccination.\n",
    "\"\"\""
   ]
  },
  {
   "cell_type": "code",
   "execution_count": 27,
   "metadata": {},
   "outputs": [],
   "source": [
    "inputs = tokenizer(question, text, return_tensors=\"tf\")\n",
    "outputs = model(**inputs)"
   ]
  },
  {
   "cell_type": "code",
   "execution_count": 7,
   "metadata": {},
   "outputs": [],
   "source": [
    "answer_start_index = int(tf.math.argmax(outputs.start_logits, axis=-1)[0])\n",
    "answer_end_index = int(tf.math.argmax(outputs.end_logits, axis=-1)[0])"
   ]
  },
  {
   "cell_type": "code",
   "execution_count": 8,
   "metadata": {},
   "outputs": [],
   "source": [
    "predict_answer_tokens = inputs.input_ids[0, answer_start_index : answer_end_index + 1]"
   ]
  },
  {
   "cell_type": "code",
   "execution_count": 9,
   "metadata": {},
   "outputs": [
    {
     "data": {
      "text/plain": [
       "'vaccination'"
      ]
     },
     "execution_count": 9,
     "metadata": {},
     "output_type": "execute_result"
    }
   ],
   "source": [
    "tokenizer.decode(predict_answer_tokens)"
   ]
  },
  {
   "cell_type": "markdown",
   "metadata": {},
   "source": [
    "Potential approach for TF-IDF cosine similarity:\n",
    "1. Extraction of titles from all JSON documents.\n",
    "2. Getting the list of embeddings for all the titles using BERT.\n",
    "3. Finding the embedding for the input query using BERT\n",
    "4. Using Cosine similarity, to find the list of similar embeddings to that of input query. This generate the list of titles which are similar to the input query. \n",
    "\n",
    "Could extend this to search in the text body after. Recommend starting with a small amount of self-generated text to test approach."
   ]
  },
  {
   "cell_type": "code",
   "execution_count": 11,
   "metadata": {},
   "outputs": [],
   "source": [
    "import pandas as pd"
   ]
  },
  {
   "cell_type": "code",
   "execution_count": 12,
   "metadata": {},
   "outputs": [],
   "source": [
    "data = pd.read_csv(\"Data/clean_pmc.csv\", nrows=5)"
   ]
  },
  {
   "cell_type": "code",
   "execution_count": 13,
   "metadata": {},
   "outputs": [
    {
     "data": {
      "text/html": [
       "<div>\n",
       "<style scoped>\n",
       "    .dataframe tbody tr th:only-of-type {\n",
       "        vertical-align: middle;\n",
       "    }\n",
       "\n",
       "    .dataframe tbody tr th {\n",
       "        vertical-align: top;\n",
       "    }\n",
       "\n",
       "    .dataframe thead th {\n",
       "        text-align: right;\n",
       "    }\n",
       "</style>\n",
       "<table border=\"1\" class=\"dataframe\">\n",
       "  <thead>\n",
       "    <tr style=\"text-align: right;\">\n",
       "      <th></th>\n",
       "      <th>paper_id</th>\n",
       "      <th>title</th>\n",
       "      <th>authors</th>\n",
       "      <th>affiliations</th>\n",
       "      <th>abstract</th>\n",
       "      <th>text</th>\n",
       "      <th>bibliography</th>\n",
       "      <th>raw_authors</th>\n",
       "      <th>raw_bibliography</th>\n",
       "    </tr>\n",
       "  </thead>\n",
       "  <tbody>\n",
       "    <tr>\n",
       "      <th>0</th>\n",
       "      <td>14572a7a9b3e92b960d92d9755979eb94c448bb5</td>\n",
       "      <td>Immune Parameters of Dry Cows Fed Mannan Oligo...</td>\n",
       "      <td>S T Franklin, M C Newman, K E Newman, K I Meek</td>\n",
       "      <td>S T Franklin (University of Kentucky, 40546-02...</td>\n",
       "      <td>Abstract\\n\\nThe objective of this study was to...</td>\n",
       "      <td>INTRODUCTION\\n\\nThe periparturient period is a...</td>\n",
       "      <td>Immune response of pregnant heifers and cows t...</td>\n",
       "      <td>[{'first': 'S', 'middle': ['T'], 'last': 'Fran...</td>\n",
       "      <td>{'BIBREF0': {'ref_id': 'b0', 'title': 'Immune ...</td>\n",
       "    </tr>\n",
       "    <tr>\n",
       "      <th>1</th>\n",
       "      <td>bb790e8366da63c4f5e2d64fa7bbd5673b93063c</td>\n",
       "      <td>Discontinuous Transcription or RNA Processing ...</td>\n",
       "      <td>Beate Schwer, Paolo Vista, Jan C Vos, Hendrik ...</td>\n",
       "      <td>Beate Schwer, Paolo Vista, Jan C Vos, Hendrik ...</td>\n",
       "      <td>NaN</td>\n",
       "      <td>Discontinuous\\n\\nTranscription or RNA Processi...</td>\n",
       "      <td>Poly (riboadenylic acid) preferentially inhibi...</td>\n",
       "      <td>[{'first': 'Beate', 'middle': [], 'last': 'Sch...</td>\n",
       "      <td>{'BIBREF0': {'ref_id': 'b0', 'title': 'Poly (r...</td>\n",
       "    </tr>\n",
       "    <tr>\n",
       "      <th>2</th>\n",
       "      <td>24f204ce5a1a4d752dc9ea7525082d225caed8b3</td>\n",
       "      <td>NaN</td>\n",
       "      <td>NaN</td>\n",
       "      <td>NaN</td>\n",
       "      <td>NaN</td>\n",
       "      <td>Letter to the Editor\\n\\nThe non-contact handhe...</td>\n",
       "      <td>Novel coronavirus is putting the whole world o...</td>\n",
       "      <td>[]</td>\n",
       "      <td>{'BIBREF0': {'ref_id': 'b0', 'title': 'Novel c...</td>\n",
       "    </tr>\n",
       "    <tr>\n",
       "      <th>3</th>\n",
       "      <td>f5bc62a289ef384131f592ec3a8852545304513a</td>\n",
       "      <td>Pediatric Natural Deaths 30</td>\n",
       "      <td>Elizabeth C Burton, Nicole A Singer</td>\n",
       "      <td>Elizabeth C Burton (Johns Hopkins University S...</td>\n",
       "      <td>NaN</td>\n",
       "      <td>Introduction\\n\\nWorldwide, the leading causes ...</td>\n",
       "      <td>In athletes who experienced sudden death or in...</td>\n",
       "      <td>[{'first': 'Elizabeth', 'middle': ['C'], 'last...</td>\n",
       "      <td>{'BIBREF0': {'ref_id': 'b0', 'title': 'In athl...</td>\n",
       "    </tr>\n",
       "    <tr>\n",
       "      <th>4</th>\n",
       "      <td>ab78a42c688ac199a2d5669e42ee4c39ff0df2b8</td>\n",
       "      <td>A real-time convective PCR machine in a capill...</td>\n",
       "      <td>Yi-Fan Hsieh, Da-Sheng Lee, Ping-Hei Chen, Sha...</td>\n",
       "      <td>Yi-Fan Hsieh (National Taiwan University, 106,...</td>\n",
       "      <td>Abstract\\n\\nThis research reports the design, ...</td>\n",
       "      <td>Introduction\\n\\nMullis et al. developed the po...</td>\n",
       "      <td>The Polymerase Chain Reaction, K B Mullis, F F...</td>\n",
       "      <td>[{'first': 'Yi-Fan', 'middle': [], 'last': 'Hs...</td>\n",
       "      <td>{'BIBREF0': {'ref_id': 'b0', 'title': 'The Pol...</td>\n",
       "    </tr>\n",
       "  </tbody>\n",
       "</table>\n",
       "</div>"
      ],
      "text/plain": [
       "                                   paper_id  \\\n",
       "0  14572a7a9b3e92b960d92d9755979eb94c448bb5   \n",
       "1  bb790e8366da63c4f5e2d64fa7bbd5673b93063c   \n",
       "2  24f204ce5a1a4d752dc9ea7525082d225caed8b3   \n",
       "3  f5bc62a289ef384131f592ec3a8852545304513a   \n",
       "4  ab78a42c688ac199a2d5669e42ee4c39ff0df2b8   \n",
       "\n",
       "                                               title  \\\n",
       "0  Immune Parameters of Dry Cows Fed Mannan Oligo...   \n",
       "1  Discontinuous Transcription or RNA Processing ...   \n",
       "2                                                NaN   \n",
       "3                        Pediatric Natural Deaths 30   \n",
       "4  A real-time convective PCR machine in a capill...   \n",
       "\n",
       "                                             authors  \\\n",
       "0     S T Franklin, M C Newman, K E Newman, K I Meek   \n",
       "1  Beate Schwer, Paolo Vista, Jan C Vos, Hendrik ...   \n",
       "2                                                NaN   \n",
       "3                Elizabeth C Burton, Nicole A Singer   \n",
       "4  Yi-Fan Hsieh, Da-Sheng Lee, Ping-Hei Chen, Sha...   \n",
       "\n",
       "                                        affiliations  \\\n",
       "0  S T Franklin (University of Kentucky, 40546-02...   \n",
       "1  Beate Schwer, Paolo Vista, Jan C Vos, Hendrik ...   \n",
       "2                                                NaN   \n",
       "3  Elizabeth C Burton (Johns Hopkins University S...   \n",
       "4  Yi-Fan Hsieh (National Taiwan University, 106,...   \n",
       "\n",
       "                                            abstract  \\\n",
       "0  Abstract\\n\\nThe objective of this study was to...   \n",
       "1                                                NaN   \n",
       "2                                                NaN   \n",
       "3                                                NaN   \n",
       "4  Abstract\\n\\nThis research reports the design, ...   \n",
       "\n",
       "                                                text  \\\n",
       "0  INTRODUCTION\\n\\nThe periparturient period is a...   \n",
       "1  Discontinuous\\n\\nTranscription or RNA Processi...   \n",
       "2  Letter to the Editor\\n\\nThe non-contact handhe...   \n",
       "3  Introduction\\n\\nWorldwide, the leading causes ...   \n",
       "4  Introduction\\n\\nMullis et al. developed the po...   \n",
       "\n",
       "                                        bibliography  \\\n",
       "0  Immune response of pregnant heifers and cows t...   \n",
       "1  Poly (riboadenylic acid) preferentially inhibi...   \n",
       "2  Novel coronavirus is putting the whole world o...   \n",
       "3  In athletes who experienced sudden death or in...   \n",
       "4  The Polymerase Chain Reaction, K B Mullis, F F...   \n",
       "\n",
       "                                         raw_authors  \\\n",
       "0  [{'first': 'S', 'middle': ['T'], 'last': 'Fran...   \n",
       "1  [{'first': 'Beate', 'middle': [], 'last': 'Sch...   \n",
       "2                                                 []   \n",
       "3  [{'first': 'Elizabeth', 'middle': ['C'], 'last...   \n",
       "4  [{'first': 'Yi-Fan', 'middle': [], 'last': 'Hs...   \n",
       "\n",
       "                                    raw_bibliography  \n",
       "0  {'BIBREF0': {'ref_id': 'b0', 'title': 'Immune ...  \n",
       "1  {'BIBREF0': {'ref_id': 'b0', 'title': 'Poly (r...  \n",
       "2  {'BIBREF0': {'ref_id': 'b0', 'title': 'Novel c...  \n",
       "3  {'BIBREF0': {'ref_id': 'b0', 'title': 'In athl...  \n",
       "4  {'BIBREF0': {'ref_id': 'b0', 'title': 'The Pol...  "
      ]
     },
     "execution_count": 13,
     "metadata": {},
     "output_type": "execute_result"
    }
   ],
   "source": [
    "data.head()"
   ]
  },
  {
   "cell_type": "code",
   "execution_count": 62,
   "metadata": {},
   "outputs": [],
   "source": [
    "text = data['abstract'][0]\n",
    "question = \"What is the periparturient period important for?\""
   ]
  },
  {
   "cell_type": "code",
   "execution_count": 66,
   "metadata": {},
   "outputs": [
    {
     "data": {
      "text/plain": [
       "407"
      ]
     },
     "execution_count": 66,
     "metadata": {},
     "output_type": "execute_result"
    }
   ],
   "source": [
    "len(tokenizer.tokenize(text))"
   ]
  },
  {
   "cell_type": "code",
   "execution_count": 65,
   "metadata": {},
   "outputs": [
    {
     "data": {
      "text/plain": [
       "'immune function of the cows and subsequent transfer of passive immunity to their calves'"
      ]
     },
     "execution_count": 65,
     "metadata": {},
     "output_type": "execute_result"
    }
   ],
   "source": [
    "inputs = tokenizer(question, text, return_tensors=\"tf\")\n",
    "outputs = model(**inputs)\n",
    "answer_start_index = int(tf.math.argmax(outputs.start_logits, axis=-1)[0])\n",
    "answer_end_index = int(tf.math.argmax(outputs.end_logits, axis=-1)[0])\n",
    "predict_answer_tokens = inputs.input_ids[0, answer_start_index : answer_end_index + 1]\n",
    "tokenizer.decode(predict_answer_tokens)"
   ]
  },
  {
   "cell_type": "markdown",
   "metadata": {},
   "source": [
    "**Next steps**:\n",
    "\n",
    "- Take subsample of data (first 5 rows) and try extracting answers. Use abstracts rather than body text to overcome 512 token limit.\n",
    "- Write code to truncate to 512 tokens for if abstracts are bigger.\n",
    "- Recreate plan to extract most commonly mentioned risk factors (may have to adjust list of risk factors to match returns from sample data).\n",
    "- Plan how to return candidate papers once BERT methodology (above steps) is determined."
   ]
  }
 ],
 "metadata": {
  "kernelspec": {
   "display_name": "Python 3.9.0 ('mat099')",
   "language": "python",
   "name": "python3"
  },
  "language_info": {
   "codemirror_mode": {
    "name": "ipython",
    "version": 3
   },
   "file_extension": ".py",
   "mimetype": "text/x-python",
   "name": "python",
   "nbconvert_exporter": "python",
   "pygments_lexer": "ipython3",
   "version": "3.9.12"
  },
  "orig_nbformat": 4,
  "vscode": {
   "interpreter": {
    "hash": "bc1d07306176b222eaafa12c90663e0030376ae09cf08833d8be3832e6c88b0d"
   }
  }
 },
 "nbformat": 4,
 "nbformat_minor": 2
}
