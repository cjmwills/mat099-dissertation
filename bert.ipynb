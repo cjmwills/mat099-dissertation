{
 "cells": [
  {
   "cell_type": "code",
   "execution_count": 1,
   "metadata": {},
   "outputs": [
    {
     "name": "stderr",
     "output_type": "stream",
     "text": [
      "c:\\Users\\charl\\miniconda3\\envs\\mat099\\lib\\site-packages\\tqdm\\auto.py:22: TqdmWarning: IProgress not found. Please update jupyter and ipywidgets. See https://ipywidgets.readthedocs.io/en/stable/user_install.html\n",
      "  from .autonotebook import tqdm as notebook_tqdm\n"
     ]
    }
   ],
   "source": [
    "from transformers import BertTokenizer, TFBertForQuestionAnswering\n",
    "import tensorflow as tf\n",
    "import matplotlib.pyplot as plt\n",
    "from collections import Counter\n",
    "import pandas as pd\n",
    "import numpy as np\n",
    "import joblib\n",
    "from tqdm import tqdm"
   ]
  },
  {
   "cell_type": "code",
   "execution_count": 2,
   "metadata": {},
   "outputs": [],
   "source": [
    "tokenizer = BertTokenizer.from_pretrained(\"dmis-lab/biobert-base-cased-v1.1-squad\")"
   ]
  },
  {
   "cell_type": "code",
   "execution_count": 3,
   "metadata": {},
   "outputs": [
    {
     "name": "stderr",
     "output_type": "stream",
     "text": [
      "All PyTorch model weights were used when initializing TFBertForQuestionAnswering.\n",
      "\n",
      "All the weights of TFBertForQuestionAnswering were initialized from the PyTorch model.\n",
      "If your task is similar to the task the model of the checkpoint was trained on, you can already use TFBertForQuestionAnswering for predictions without further training.\n"
     ]
    }
   ],
   "source": [
    "model = TFBertForQuestionAnswering.from_pretrained(\"dmis-lab/biobert-base-cased-v1.1-squad\", from_pt=True)"
   ]
  },
  {
   "cell_type": "code",
   "execution_count": 4,
   "metadata": {},
   "outputs": [],
   "source": [
    "# data = pd.read_csv(\"Data/clean_pmc.csv\", nrows=1000)\n",
    "data = joblib.load(\"outputs/data_june_5k.pkl\")"
   ]
  },
  {
   "cell_type": "code",
   "execution_count": 5,
   "metadata": {},
   "outputs": [],
   "source": [
    "not_null_data = data[data['abstract'].notnull()]\n",
    "# not_null_data.reset_index(inplace=True, drop=True)"
   ]
  },
  {
   "cell_type": "code",
   "execution_count": 6,
   "metadata": {},
   "outputs": [
    {
     "data": {
      "text/plain": [
       "(3425, 3)"
      ]
     },
     "execution_count": 6,
     "metadata": {},
     "output_type": "execute_result"
    }
   ],
   "source": [
    "not_null_data.shape"
   ]
  },
  {
   "cell_type": "code",
   "execution_count": 7,
   "metadata": {},
   "outputs": [],
   "source": [
    "def get_answer(question, text):\n",
    "    \n",
    "    inputs = tokenizer(question, text, return_tensors=\"tf\")\n",
    "    outputs = model(**inputs)\n",
    "    answer_start_index = int(tf.math.argmax(outputs.start_logits, axis=-1)[0])\n",
    "    answer_end_index = int(tf.math.argmax(outputs.end_logits, axis=-1)[0])\n",
    "    predict_answer_tokens = inputs.input_ids[0, answer_start_index : answer_end_index + 1]\n",
    "    predicted_answer = tokenizer.decode(predict_answer_tokens)\n",
    "\n",
    "    return predicted_answer"
   ]
  },
  {
   "cell_type": "code",
   "execution_count": 18,
   "metadata": {},
   "outputs": [
    {
     "name": "stderr",
     "output_type": "stream",
     "text": [
      "100%|██████████| 500/500 [25:06<00:00,  3.01s/it]\n"
     ]
    }
   ],
   "source": [
    "question = \"What are the risk factors of Covid-19?\"\n",
    "\n",
    "qa_results=[]\n",
    "for index, row in tqdm(not_null_data[:500].iterrows(), total=not_null_data[:500].shape[0]):\n",
    "\n",
    "    if len(tokenizer.tokenize(row['abstract'])) < 475:\n",
    "        \n",
    "        text = row['abstract']\n",
    "        predicted_answer = get_answer(question=question, text=text)\n",
    "        \n",
    "        if predicted_answer != '[CLS]' and predicted_answer != '':\n",
    "            qa_results.append((index, predicted_answer))"
   ]
  },
  {
   "cell_type": "code",
   "execution_count": 24,
   "metadata": {},
   "outputs": [
    {
     "data": {
      "text/plain": [
       "['outputs/bert_qa_results_june_500.pkl']"
      ]
     },
     "execution_count": 24,
     "metadata": {},
     "output_type": "execute_result"
    }
   ],
   "source": [
    "# joblib.dump(qa_results, 'outputs/bert_qa_results_june_500.pkl')\n",
    "# qa_results = joblib.load('outputs/bert_qa_results_500.pkl')"
   ]
  },
  {
   "cell_type": "code",
   "execution_count": 19,
   "metadata": {},
   "outputs": [],
   "source": [
    "# updated risk factors from word2vec\n",
    "age_synonyms = ['age', 'younger', 'older', 'ages', 'aged', 'old']\n",
    "gender_synonyms = ['gender', 'ethnicity', 'sex', 'demographics', 'occupation', 'nationality']\n",
    "sex_synonyms = ['sex', 'gender', 'ethnicity', 'breed', 'race/ethnicity', 'occupation']\n",
    "pneumonia_synonyms = ['pneumonia', 'pneumonias', 'tracheitis', 'croup', 'pharyngitis', 'bronchiolitis']\n",
    "obesity_synonyms = ['obesity', 'diabetes', 'hypertension', 'malnutrition', 'osteoporosis', 'nafld']\n",
    "diabetes_synonyms = ['diabetes', 'mellitus', 'obesity', 'hypertension', 'insulin-dependent', 'hypercholesterolemia']\n",
    "smoking_synonyms = ['smoking', 'cigarette', 'smoke', 'obesity', 'abuse', 'breastfeeding']\n",
    "cardiovascular_synonyms = ['cardiovascular', 'cardiopulmonary', 'cardiac', 'cerebrovascular', 'hypertension', 'musculoskeletal']\n",
    "location_synonyms = ['location', 'locations', 'geographical', 'distribution', 'geographic', 'temporal']\n",
    "contact_synonyms = ['contact', 'contacts', 'transmission', 'proximity', 'movement', 'exposure']\n",
    "asthma_synonyms = ['asthma', 'wheezing', 'copd', 'exacerbations', 'atopy', 'wheeze']\n",
    "cancer_synonyms = ['cancer', 'cancers', 'carcinoma', 'prostate', 'melanoma', 'tumour']\n",
    "\n",
    "candidate_risk_factors = set(age_synonyms + gender_synonyms + sex_synonyms + pneumonia_synonyms + obesity_synonyms + diabetes_synonyms + smoking_synonyms + cardiovascular_synonyms + location_synonyms + contact_synonyms + asthma_synonyms + cancer_synonyms)"
   ]
  },
  {
   "cell_type": "code",
   "execution_count": 20,
   "metadata": {},
   "outputs": [
    {
     "name": "stdout",
     "output_type": "stream",
     "text": [
      "['exposure', 'exposure', 'occupation', 'old', 'old', 'transmission', 'transmission', 'occupation', 'cancer', 'aged', 'pneumonia', 'pneumonia', 'hypertension']\n"
     ]
    }
   ],
   "source": [
    "risk_factor_list=[]\n",
    "for result in qa_results:\n",
    "    for risk_factor in candidate_risk_factors:\n",
    "        if risk_factor in result[1].split():\n",
    "            risk_factor_list.append(risk_factor)\n",
    "\n",
    "print(risk_factor_list)"
   ]
  },
  {
   "cell_type": "code",
   "execution_count": 21,
   "metadata": {},
   "outputs": [
    {
     "name": "stdout",
     "output_type": "stream",
     "text": [
      "Counter({'exposure': 2, 'occupation': 2, 'old': 2, 'transmission': 2, 'pneumonia': 2, 'cancer': 1, 'aged': 1, 'hypertension': 1})\n"
     ]
    }
   ],
   "source": [
    "risk_factor_count = Counter(risk_factor_list)\n",
    "print(risk_factor_count)"
   ]
  },
  {
   "cell_type": "code",
   "execution_count": 22,
   "metadata": {},
   "outputs": [
    {
     "data": {
      "image/png": "[encoded data removed]",
      "text/plain": [
       "<Figure size 432x288 with 1 Axes>"
      ]
     },
     "metadata": {
      "needs_background": "light"
     },
     "output_type": "display_data"
    }
   ],
   "source": [
    "risk_factor_df = pd.DataFrame.from_dict(risk_factor_count, orient='index')\n",
    "risk_factor_df.columns = ['count']\n",
    "risk_factor_df.sort_values(by='count', ascending=True).plot(kind='barh', legend=None)\n",
    "plt.show()"
   ]
  }
 ],
 "metadata": {
  "kernelspec": {
   "display_name": "Python 3.9.0 ('mat099')",
   "language": "python",
   "name": "python3"
  },
  "language_info": {
   "codemirror_mode": {
    "name": "ipython",
    "version": 3
   },
   "file_extension": ".py",
   "mimetype": "text/x-python",
   "name": "python",
   "nbconvert_exporter": "python",
   "pygments_lexer": "ipython3",
   "version": "3.9.12"
  },
  "orig_nbformat": 4,
  "vscode": {
   "interpreter": {
    "hash": "bc1d07306176b222eaafa12c90663e0030376ae09cf08833d8be3832e6c88b0d"
   }
  }
 },
 "nbformat": 4,
 "nbformat_minor": 2
}
