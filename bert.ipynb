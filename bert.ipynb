{
 "cells": [
  {
   "cell_type": "code",
   "execution_count": 1,
   "metadata": {},
   "outputs": [
    {
     "name": "stderr",
     "output_type": "stream",
     "text": [
      "c:\\Users\\charl\\miniconda3\\envs\\mat099\\lib\\site-packages\\tqdm\\auto.py:22: TqdmWarning: IProgress not found. Please update jupyter and ipywidgets. See https://ipywidgets.readthedocs.io/en/stable/user_install.html\n",
      "  from .autonotebook import tqdm as notebook_tqdm\n"
     ]
    }
   ],
   "source": [
    "from transformers import BertTokenizer, TFBertForQuestionAnswering\n",
    "import tensorflow as tf"
   ]
  },
  {
   "cell_type": "code",
   "execution_count": 2,
   "metadata": {},
   "outputs": [],
   "source": [
    "tokenizer = BertTokenizer.from_pretrained(\"dmis-lab/biobert-base-cased-v1.1-squad\")"
   ]
  },
  {
   "cell_type": "code",
   "execution_count": 3,
   "metadata": {},
   "outputs": [
    {
     "name": "stderr",
     "output_type": "stream",
     "text": [
      "All PyTorch model weights were used when initializing TFBertForQuestionAnswering.\n",
      "\n",
      "All the weights of TFBertForQuestionAnswering were initialized from the PyTorch model.\n",
      "If your task is similar to the task the model of the checkpoint was trained on, you can already use TFBertForQuestionAnswering for predictions without further training.\n"
     ]
    }
   ],
   "source": [
    "model = TFBertForQuestionAnswering.from_pretrained(\"dmis-lab/biobert-base-cased-v1.1-squad\", from_pt=True)"
   ]
  },
  {
   "cell_type": "code",
   "execution_count": 26,
   "metadata": {},
   "outputs": [],
   "source": [
    "question = \"What reduces risk of Covid-19?\"\n",
    "text = \"\"\"\n",
    "Coronavirus (COVID-19) can make anyone seriously ill. But for some people, the risk is higher.\n",
    "At some point during the COVID-19 pandemic you may have been told you were at high risk of getting seriously ill from COVID-19 (sometimes called clinically vulnerable or clinically extremely vulnerable). You may also have been advised to stay at home (shield).\n",
    "For most people at high risk from COVID-19, vaccination has significantly reduced this risk. You can follow the same advice as everyone else on how to avoid catching and spreading COVID-19.\n",
    "Some people continue to be at high risk from COVID-19, despite vaccination.\n",
    "\"\"\""
   ]
  },
  {
   "cell_type": "code",
   "execution_count": 27,
   "metadata": {},
   "outputs": [],
   "source": [
    "inputs = tokenizer(question, text, return_tensors=\"tf\")\n",
    "outputs = model(**inputs)"
   ]
  },
  {
   "cell_type": "code",
   "execution_count": 7,
   "metadata": {},
   "outputs": [],
   "source": [
    "answer_start_index = int(tf.math.argmax(outputs.start_logits, axis=-1)[0])\n",
    "answer_end_index = int(tf.math.argmax(outputs.end_logits, axis=-1)[0])"
   ]
  },
  {
   "cell_type": "code",
   "execution_count": 8,
   "metadata": {},
   "outputs": [],
   "source": [
    "predict_answer_tokens = inputs.input_ids[0, answer_start_index : answer_end_index + 1]"
   ]
  },
  {
   "cell_type": "code",
   "execution_count": 9,
   "metadata": {},
   "outputs": [
    {
     "data": {
      "text/plain": [
       "'vaccination'"
      ]
     },
     "execution_count": 9,
     "metadata": {},
     "output_type": "execute_result"
    }
   ],
   "source": [
    "tokenizer.decode(predict_answer_tokens)"
   ]
  },
  {
   "cell_type": "markdown",
   "metadata": {},
   "source": [
    "Potential approach for TF-IDF cosine similarity:\n",
    "1. Extraction of titles from all JSON documents.\n",
    "2. Getting the list of embeddings for all the titles using BERT.\n",
    "3. Finding the embedding for the input query using BERT\n",
    "4. Using Cosine similarity, to find the list of similar embeddings to that of input query. This generate the list of titles which are similar to the input query. \n",
    "\n",
    "Could extend this to search in the text body after. Recommend starting with a small amount of self-generated text to test approach."
   ]
  },
  {
   "cell_type": "code",
   "execution_count": 4,
   "metadata": {},
   "outputs": [],
   "source": [
    "import pandas as pd\n",
    "import numpy as np"
   ]
  },
  {
   "cell_type": "code",
   "execution_count": 48,
   "metadata": {},
   "outputs": [],
   "source": [
    "data = pd.read_csv(\"Data/clean_pmc.csv\", nrows=1000)"
   ]
  },
  {
   "cell_type": "code",
   "execution_count": 49,
   "metadata": {},
   "outputs": [],
   "source": [
    "not_null_data = data[data['abstract'].notnull()]"
   ]
  },
  {
   "cell_type": "code",
   "execution_count": 50,
   "metadata": {},
   "outputs": [
    {
     "data": {
      "text/plain": [
       "(662, 9)"
      ]
     },
     "execution_count": 50,
     "metadata": {},
     "output_type": "execute_result"
    }
   ],
   "source": [
    "not_null_data.shape"
   ]
  },
  {
   "cell_type": "code",
   "execution_count": 54,
   "metadata": {},
   "outputs": [],
   "source": [
    "def get_answer(question, text):\n",
    "    \n",
    "    inputs = tokenizer(question, text, return_tensors=\"tf\")\n",
    "    outputs = model(**inputs)\n",
    "    answer_start_index = int(tf.math.argmax(outputs.start_logits, axis=-1)[0])\n",
    "    answer_end_index = int(tf.math.argmax(outputs.end_logits, axis=-1)[0])\n",
    "    predict_answer_tokens = inputs.input_ids[0, answer_start_index : answer_end_index + 1]\n",
    "    predicted_answer = tokenizer.decode(predict_answer_tokens)\n",
    "\n",
    "    return predicted_answer"
   ]
  },
  {
   "cell_type": "code",
   "execution_count": 53,
   "metadata": {},
   "outputs": [],
   "source": [
    "question = \"What are the risk factors of Covid-19?\"\n",
    "\n",
    "qa_dict={}\n",
    "for index, row in not_null_data[:100].iterrows():\n",
    "\n",
    "    if len(tokenizer.tokenize(row['abstract'])) < 512:\n",
    "        \n",
    "        text = row['abstract']\n",
    "        inputs = tokenizer(question, text, return_tensors=\"tf\")\n",
    "        outputs = model(**inputs)\n",
    "        answer_start_index = int(tf.math.argmax(outputs.start_logits, axis=-1)[0])\n",
    "        answer_end_index = int(tf.math.argmax(outputs.end_logits, axis=-1)[0])\n",
    "        predict_answer_tokens = inputs.input_ids[0, answer_start_index : answer_end_index + 1]\n",
    "\n",
    "        predicted_answer = tokenizer.decode(predict_answer_tokens)\n",
    "        if predicted_answer != '[CLS]':\n",
    "            qa_dict[index] = predicted_answer"
   ]
  },
  {
   "cell_type": "code",
   "execution_count": 55,
   "metadata": {},
   "outputs": [
    {
     "data": {
      "text/plain": [
       "{4: 'the flow pattern and temperature distribution',\n",
       " 19: '',\n",
       " 38: '[CLS] what are the risk factors of covid - 19? [SEP] abstract we recently observed six cases of generalized dermatitis associated with malassezia overgrowth',\n",
       " 42: 'what are the risk factors',\n",
       " 47: 'what are the risk factors',\n",
       " 58: '',\n",
       " 59: '[CLS] what are the risk factors of covid - 19? [SEP] abstract human respiratory syncytial virus is an important cause of severe respiratory disease in young children, the elderly, and in immunocompromised adults. similarly, bovine respiratory syncytial virus ( brsv ) is causing severe, sometimes fatal, respiratory disease in calves. both viruses are pneumovirus',\n",
       " 62: 'the ratio of the epidemic infection rate of the year to the average infected density of the former year',\n",
       " 74: '[CLS] what are the risk factors of covid - 19? [SEP] abstract understanding of aerosol dispersion characteristics has many scientific and engineering applications. it is recognized that eulerian or lagrangian approach has its own merits and limitations. a new eulerian model has been developed and it adopts a simplified drift - flux methodology in which external forces can be incorporated straightforwardly. a new nearwall treatment is applied to take into account the anisotropic turbulence',\n",
       " 76: 'infectious bronchitis virus',\n",
       " 87: '[CLS] what are the risk factors of covid - 19? [SEP] abstract for fi eld collections ; j. andre for research permits ; t. kreeger for access to his facility ; r. massung for positive - control dna ; and g. dahlem for identifying ravinia spp',\n",
       " 89: '',\n",
       " 104: 'land - use characteristics',\n",
       " 110: '[CLS] what are the risk factors of covid - 19? [SEP] abstract murine hepatitis virus a59 infection of the central nervous system ( cns ) results in cns demyelination in susceptible strains of mice. in infected b - cellde cient mice, demyelination not only occurred but was also more severe than in parental c57bl / 6 animals. this increase may be due to the persistence of virus in the cns in the absence of b cells',\n",
       " 112: '[CLS] what are the risk factors of covid - 19? [SEP] abstract a high number of infectious diseases affecting livestock and companion animals are caused by pathogens of viral etiology. ensuring the maximum standards of quality and welfare in animal production requires developing effective tools to halt and prevent the spread of those infectious diseases affecting animal husbandry. to date, one of the best strategies is to implement vaccination policies whenever possible. however many of the currently manufactured vaccines relies in classical vaccine technologies ( killed or attenuated vaccines ) which, under some circumstances, may not be optimal in terms of safety or adequate for widespread application in disease - free countries at risk of disease introduction',\n",
       " 116: 'viruses : properties, place in the living world, and possible origin ; ( ii ) molecular basis of viral variability and evolution ; and ( iii ) evolution of viral pathogenicity and emerging viral infections',\n",
       " 123: '',\n",
       " 129: '[CLS] what are the risk factors of covid - 19? [SEP] abstract the prevalence of asthma has dramatically increased in recent decades. exacerbations of asthma are a large contributor to asthma - related costs, and are primarily caused by viral and atypical bacterial infections',\n",
       " 140: '[CLS] what are the risk factors of covid - 19? [SEP] abstract the human coronavirus nl63 is generally classified as a common cold pathogen, though the infection may also result in severe lower respiratory tract diseases, especially in children, patients with underlying disease, and elderly. it has been previously shown that hcov - nl63 is also one of the most important causes of croup in children. in the current manuscript we developed a set of polymer - based compounds showing prominent anticoronaviral activity. polymers have been recently considered as promising alternatives to small molecule inhibitors, due to their intrinsic antimicrobial properties and ability to serve as matrices for antimicrobial compounds. most of the antimicrobial polymers show antibacterial properties, while those with antiviral activity are much less frequent. a cationically modified chitosan derivative, n - ( 2 - hydroxypropyl ) - 3 - trimethylammonium chitosan chloride ( htcc ), and hydrophobically - modified htcc were shown to be potent inhibitors of hcov - nl63 replication. furthermore, both compounds showed prominent activity against murine hepatitis virus'}"
      ]
     },
     "execution_count": 55,
     "metadata": {},
     "output_type": "execute_result"
    }
   ],
   "source": [
    "qa_dict"
   ]
  },
  {
   "cell_type": "markdown",
   "metadata": {},
   "source": [
    "**Next steps**:\n",
    "\n",
    "- Take subsample of data (first 5 rows) and try extracting answers. Use abstracts rather than body text to overcome 512 token limit.\n",
    "- Write code to truncate to 512 tokens for if abstracts are bigger.\n",
    "- Recreate plan to extract most commonly mentioned risk factors (may have to adjust list of risk factors to match returns from sample data).\n",
    "- Plan how to return candidate papers once BERT methodology (above steps) is determined."
   ]
  }
 ],
 "metadata": {
  "kernelspec": {
   "display_name": "Python 3.9.0 ('mat099')",
   "language": "python",
   "name": "python3"
  },
  "language_info": {
   "codemirror_mode": {
    "name": "ipython",
    "version": 3
   },
   "file_extension": ".py",
   "mimetype": "text/x-python",
   "name": "python",
   "nbconvert_exporter": "python",
   "pygments_lexer": "ipython3",
   "version": "3.9.12"
  },
  "orig_nbformat": 4,
  "vscode": {
   "interpreter": {
    "hash": "bc1d07306176b222eaafa12c90663e0030376ae09cf08833d8be3832e6c88b0d"
   }
  }
 },
 "nbformat": 4,
 "nbformat_minor": 2
}
