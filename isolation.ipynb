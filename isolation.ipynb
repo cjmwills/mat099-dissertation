{
 "cells": [
  {
   "cell_type": "markdown",
   "metadata": {},
   "source": [
    "### How long should people infected with the virus isolate for? Possible steps to answer this are:\n",
    "- Find all terms that describe isolation (incubation, quarantine, isolation, infectious, transmissable, spreading, transferable, contagious)\n",
    "- Look for all numbers used near these words (in the form 'XX days') that describe the recommend isolation period.\n",
    "- Put all numbers into a list and average them to determine the recommended isolation period.\n",
    "- Spot check a few examples to check it's working as expected."
   ]
  },
  {
   "cell_type": "code",
   "execution_count": null,
   "metadata": {},
   "outputs": [],
   "source": [
    "def recommended_isolation(data, keywords, step=5, day_threshold=25):\n",
    "    days=[]\n",
    "    row_num=[]\n",
    "    for indx, row in data.iterrows():\n",
    "        days_regex = '[0-9]+'\n",
    "        words = row['text'].split()\n",
    "        for index, word in enumerate(words):\n",
    "            if index < len(words) - 1:\n",
    "                next_word = words[index+1]\n",
    "            else:\n",
    "                next_word = ''\n",
    "            if index >= step:\n",
    "                words_left = words[index-step:index]\n",
    "            else:\n",
    "                words_left = []\n",
    "            words_right = words[index+1:index+step+1]\n",
    "            surrounding_words = words_left + words_right\n",
    "            if re.search(days_regex, word) and next_word == 'days' and any(word in keywords for word in surrounding_words):\n",
    "                days.append(word)\n",
    "                row_num.append(indx)\n",
    "    \n",
    "    valid_days=[]\n",
    "    for day in days:\n",
    "        try: \n",
    "            float(day)\n",
    "        except:\n",
    "            continue\n",
    "        else:\n",
    "            if float(day) < day_threshold:\n",
    "                valid_days.append(float(day))\n",
    "                \n",
    "    return np.asarray(valid_days).mean()"
   ]
  },
  {
   "cell_type": "code",
   "execution_count": null,
   "metadata": {},
   "outputs": [],
   "source": [
    "keywords = ['isolation', 'incubation', 'quarantine', 'infectious', 'transmissable', 'spreading', 'transferable', 'contagious']\n",
    "days_to_isolate = recommended_isolation(data_eng[:1000], keywords)"
   ]
  },
  {
   "cell_type": "code",
   "execution_count": null,
   "metadata": {},
   "outputs": [
    {
     "name": "stdout",
     "output_type": "stream",
     "text": [
      "7.512121212121213\n"
     ]
    }
   ],
   "source": [
    "print(days_to_isolate)"
   ]
  },
  {
   "cell_type": "markdown",
   "metadata": {},
   "source": [
    "### Output\n",
    "\n",
    "#### Preliminary checks\n",
    "Spot checks showed some estimates of isolation periods were sensible, however others were not being used in the correct context. For example, the paper may mention one of the keywords but not be stating that it is a recommended isolation period, rather just using the terms in a different context. \n",
    "\n",
    "#### Possible next steps\n",
    "Find better way to determine context and other characteristics that are used in the sentences we're looking for. May be best to return to this later rather than investing too much time on only one element of the research."
   ]
  }
 ],
 "metadata": {
  "interpreter": {
   "hash": "483cab17ea47bf3dc62612f79753baa304c994dab11b0cb1ba24b5d79c042b44"
  },
  "kernelspec": {
   "display_name": "Python 3.8.5 ('base')",
   "language": "python",
   "name": "python3"
  },
  "language_info": {
   "codemirror_mode": {
    "name": "ipython",
    "version": 3
   },
   "file_extension": ".py",
   "mimetype": "text/x-python",
   "name": "python",
   "nbconvert_exporter": "python",
   "pygments_lexer": "ipython3",
   "version": "3.8.5"
  },
  "orig_nbformat": 4
 },
 "nbformat": 4,
 "nbformat_minor": 2
}
