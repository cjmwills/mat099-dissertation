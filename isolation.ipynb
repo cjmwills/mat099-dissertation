{
 "cells": [
  {
   "cell_type": "markdown",
   "metadata": {},
   "source": [
    "### How long should people infected with the virus isolate for? Possible steps to answer this are:\n",
    "- Find all terms that describe isolation (incubation, quarantine, isolation, infectious, transmissable, spreading, transferable, contagious)\n",
    "- Look for all numbers used near these words (in the form 'XX days') that describe the recommend isolation period.\n",
    "- Put all numbers into a list and average them to determine the recommended isolation period.\n",
    "- Spot check a few examples to check it's working as expected."
   ]
  },
  {
   "cell_type": "code",
   "execution_count": 1,
   "metadata": {},
   "outputs": [],
   "source": [
    "import pandas as pd\n",
    "import re\n",
    "import numpy as np\n",
    "import nltk\n",
    "from nltk.tokenize import sent_tokenize, word_tokenize\n",
    "stopwords=set(nltk.corpus.stopwords.words('english'))\n",
    "from collections import defaultdict"
   ]
  },
  {
   "cell_type": "markdown",
   "metadata": {},
   "source": [
    "### Import data and return english sentences"
   ]
  },
  {
   "cell_type": "code",
   "execution_count": 2,
   "metadata": {},
   "outputs": [],
   "source": [
    "data = pd.read_csv(\"Data/clean_pmc.csv\", nrows=10000)"
   ]
  },
  {
   "cell_type": "code",
   "execution_count": 3,
   "metadata": {},
   "outputs": [],
   "source": [
    "data_cleaned = data[data['text'].apply(lambda x: bool(re.match('.*[a-zA-Z]+', x)))]\n",
    "lang = pd.read_csv(\"Data/predicted_lang_10k.csv\", index_col=0).squeeze()\n",
    "data_eng = data_cleaned[lang == 'en']\n",
    "# reset index for use in pd.iterrows()\n",
    "data_eng = data_eng.reset_index()"
   ]
  },
  {
   "cell_type": "markdown",
   "metadata": {},
   "source": [
    "### Define functions to determine recommended isolation period"
   ]
  },
  {
   "cell_type": "code",
   "execution_count": 4,
   "metadata": {},
   "outputs": [],
   "source": [
    "def extract_days(tokenized_sent, anchor_word='days', days_regex=\"[0-9.]+\"):\n",
    "    \n",
    "    # find index position of anchor word in sentence\n",
    "    anchor_pos = tokenized_sent.index(anchor_word)\n",
    "    days=[]\n",
    "\n",
    "    # search for the two words preceding the anchor word and check\n",
    "    # if they are numbers (using days_regex to confirm). If so, add\n",
    "    # them to `days` list and take average. This is useful if a range\n",
    "    # has been given. e.g. 2-6 days will return 4 days.\n",
    "    for i in [anchor_pos-2, anchor_pos-1]:\n",
    "        if i >= 0 and bool(re.match(days_regex, tokenized_sent[i])):\n",
    "            day = re.findall(days_regex, tokenized_sent[i])\n",
    "            days.extend(day)\n",
    "\n",
    "    if days == []:\n",
    "        return None\n",
    "    else:\n",
    "        try:\n",
    "            np.asarray(days, dtype=np.float32).mean()\n",
    "        except:\n",
    "            print(f\"Days list {days} can't be converted to numpy array. Extracted from {tokenized_sent}\")\n",
    "        else:\n",
    "            return np.asarray(days, dtype=np.float32).mean()"
   ]
  },
  {
   "cell_type": "code",
   "execution_count": 5,
   "metadata": {},
   "outputs": [],
   "source": [
    "def recommended_isolation(data, keywords, anchor_word='days', subset=None):\n",
    "\n",
    "    # take subset of data to avoid long run time if requested by user\n",
    "    if subset is not None:\n",
    "        data = data[:subset]\n",
    "\n",
    "    isolation=[]\n",
    "    index=[]\n",
    "    keyword_counter = defaultdict(int)\n",
    "    \n",
    "    # loop through pandas dataframe\n",
    "    for indx, row in data.iterrows():\n",
    "        # split 'text' column into sentences\n",
    "        sents = sent_tokenize(row['text'])\n",
    "        # split those sentences into words\n",
    "        words = [word_tokenize(sent) for sent in sents]\n",
    "        # loop through list of lists where outer list is each sentence and\n",
    "        # inner list is each word in that sentence. Convert to lower text\n",
    "        # and remove stopwords. Then extract the no. of days from each sentence\n",
    "        # that contains a keyword(s).\n",
    "        for sent in words:\n",
    "            sent_clean = [word.lower() for word in sent if word.lower() not in stopwords]\n",
    "            keywords_present = [word for word in keywords if word in sent_clean]\n",
    "            if len(keywords_present) > 0 and anchor_word in sent_clean:\n",
    "                days_from_sent = extract_days(sent_clean)\n",
    "                if days_from_sent is not None:\n",
    "                    isolation.append(days_from_sent)\n",
    "                    index.append(indx)\n",
    "                    for keyword_present in keywords_present:\n",
    "                        keyword_counter[keyword_present] += 1\n",
    "            \n",
    "    return isolation, index, keyword_counter"
   ]
  },
  {
   "cell_type": "markdown",
   "metadata": {},
   "source": [
    "### Run word2vec to determine keywords"
   ]
  },
  {
   "cell_type": "code",
   "execution_count": 17,
   "metadata": {},
   "outputs": [
    {
     "name": "stderr",
     "output_type": "stream",
     "text": [
      "C:\\Users\\charl\\anaconda3\\lib\\site-packages\\tqdm\\std.py:697: FutureWarning: The Panel class is removed from pandas. Accessing it from the top-level namespace will also be removed in the next version\n",
      "  from pandas import Panel\n"
     ]
    }
   ],
   "source": [
    "import gensim\n",
    "from gensim.models import Word2Vec\n",
    "from tqdm import tqdm\n",
    "tqdm.pandas()"
   ]
  },
  {
   "cell_type": "code",
   "execution_count": 19,
   "metadata": {},
   "outputs": [
    {
     "name": "stderr",
     "output_type": "stream",
     "text": [
      "100%|██████████| 6427/6427 [14:11<00:00,  7.55it/s] \n"
     ]
    }
   ],
   "source": [
    "corpus=[]\n",
    "for index, row in tqdm(data_eng.iterrows(), total=data_eng.shape[0]):\n",
    "    words = word_tokenize(row['text'])\n",
    "    words_cleaned = [word.lower() for word in words if word.lower() not in stopwords]\n",
    "    corpus.append(words_cleaned)"
   ]
  },
  {
   "cell_type": "code",
   "execution_count": 20,
   "metadata": {},
   "outputs": [],
   "source": [
    "model = Word2Vec(sentences=corpus)"
   ]
  },
  {
   "cell_type": "code",
   "execution_count": null,
   "metadata": {},
   "outputs": [],
   "source": [
    "model.save(\"Data/word2vec_embeddings.model\")"
   ]
  },
  {
   "cell_type": "code",
   "execution_count": 21,
   "metadata": {},
   "outputs": [
    {
     "data": {
      "text/plain": [
       "[('quarantining', 0.7559069395065308),\n",
       " ('quarantined', 0.6932406425476074),\n",
       " ('containment', 0.6587002277374268),\n",
       " ('notification', 0.6581401228904724),\n",
       " ('precautionary', 0.6495118141174316),\n",
       " ('quarantines', 0.6484743356704712),\n",
       " ('precautions', 0.6436688303947449),\n",
       " ('compulsory', 0.6422392725944519),\n",
       " ('tracing', 0.6411328911781311),\n",
       " ('precaution', 0.6385451555252075)]"
      ]
     },
     "execution_count": 21,
     "metadata": {},
     "output_type": "execute_result"
    }
   ],
   "source": [
    "model.wv.most_similar('quarantine')"
   ]
  },
  {
   "cell_type": "markdown",
   "metadata": {},
   "source": [
    "### Define keywords and run functions"
   ]
  },
  {
   "cell_type": "code",
   "execution_count": 12,
   "metadata": {},
   "outputs": [],
   "source": [
    "keywords = ['quarantine', 'quarantining', 'quarantined', 'containment', 'notification', 'precautionary', 'quarantines', 'precautions', 'compulsory', 'tracing', 'precaution']\n",
    "days_to_isolate = recommended_isolation(data_eng, keywords=keywords, subset=5000)"
   ]
  },
  {
   "cell_type": "code",
   "execution_count": 15,
   "metadata": {},
   "outputs": [
    {
     "name": "stdout",
     "output_type": "stream",
     "text": [
      "Median recommended isolation: 10.0 days\n",
      "Number of keywords found: 85\n"
     ]
    }
   ],
   "source": [
    "a = np.asarray(days_to_isolate[0], dtype=np.float32)\n",
    "print(f'Median recommended isolation: {np.median(a)} days')\n",
    "print(f'Number of keywords found: {len(days_to_isolate[0])}')"
   ]
  },
  {
   "cell_type": "markdown",
   "metadata": {},
   "source": [
    "### Error analysis"
   ]
  },
  {
   "cell_type": "code",
   "execution_count": 16,
   "metadata": {},
   "outputs": [],
   "source": [
    "import matplotlib.pyplot as plt"
   ]
  },
  {
   "cell_type": "code",
   "execution_count": 40,
   "metadata": {},
   "outputs": [
    {
     "data": {
      "image/png": "[encoded data removed]",
      "text/plain": [
       "<Figure size 432x288 with 1 Axes>"
      ]
     },
     "metadata": {
      "needs_background": "light"
     },
     "output_type": "display_data"
    }
   ],
   "source": [
    "result = plt.boxplot(a)\n",
    "plt.show()"
   ]
  },
  {
   "cell_type": "code",
   "execution_count": 45,
   "metadata": {},
   "outputs": [
    {
     "data": {
      "image/png": "[encoded data removed]",
      "text/plain": [
       "<Figure size 432x288 with 1 Axes>"
      ]
     },
     "metadata": {
      "needs_background": "light"
     },
     "output_type": "display_data"
    }
   ],
   "source": [
    "plt.hist(a[a < 35])\n",
    "plt.xlabel(\"Days\")\n",
    "plt.ylabel(\"Frequency\")\n",
    "plt.show()"
   ]
  },
  {
   "cell_type": "code",
   "execution_count": 113,
   "metadata": {},
   "outputs": [
    {
     "data": {
      "image/png": "[encoded data removed]",
      "text/plain": [
       "<Figure size 432x288 with 1 Axes>"
      ]
     },
     "metadata": {
      "needs_background": "light"
     },
     "output_type": "display_data"
    }
   ],
   "source": [
    "df = pd.DataFrame(days_to_isolate[2].items(), columns=['keyword', 'frequency'])\n",
    "df = df.sort_values('frequency', ascending=True)\n",
    "df.plot(x='keyword', y='frequency', kind='barh', legend=False)\n",
    "plt.title('Frequency of keywords found in search')\n",
    "plt.ylabel('')\n",
    "plt.show()"
   ]
  },
  {
   "cell_type": "code",
   "execution_count": 115,
   "metadata": {},
   "outputs": [],
   "source": [
    "print(\"Day\", \"Index\", \"\\n---------\")\n",
    "for day, index in zip(days_to_isolate[0], days_to_isolate[1]):\n",
    "    print(day, index)"
   ]
  },
  {
   "cell_type": "code",
   "execution_count": 114,
   "metadata": {},
   "outputs": [],
   "source": [
    "print(data_eng.iloc[678, 6])"
   ]
  }
 ],
 "metadata": {
  "interpreter": {
   "hash": "16196ea7eff63910081d4e10ae1bdb1eb18fd83cb470bb8efbb9fa6b0c724af5"
  },
  "kernelspec": {
   "display_name": "Python 3.8.5 ('base')",
   "language": "python",
   "name": "python3"
  },
  "language_info": {
   "codemirror_mode": {
    "name": "ipython",
    "version": 3
   },
   "file_extension": ".py",
   "mimetype": "text/x-python",
   "name": "python",
   "nbconvert_exporter": "python",
   "pygments_lexer": "ipython3",
   "version": "3.8.5"
  },
  "orig_nbformat": 4
 },
 "nbformat": 4,
 "nbformat_minor": 2
}
