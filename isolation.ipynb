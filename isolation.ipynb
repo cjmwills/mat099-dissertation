{
 "cells": [
  {
   "cell_type": "markdown",
   "metadata": {},
   "source": [
    "### How long should people infected with the virus isolate for? Possible steps to answer this are:\n",
    "- Find all terms that describe isolation (incubation, quarantine, isolation, infectious, transmissable, spreading, transferable, contagious)\n",
    "- Look for all numbers used near these words (in the form 'XX days') that describe the recommend isolation period.\n",
    "- Put all numbers into a list and average them to determine the recommended isolation period.\n",
    "- Spot check a few examples to check it's working as expected."
   ]
  },
  {
   "cell_type": "code",
   "execution_count": 1,
   "metadata": {},
   "outputs": [],
   "source": [
    "import pandas as pd\n",
    "import re\n",
    "import numpy as np\n",
    "import nltk\n",
    "from nltk.tokenize import sent_tokenize, word_tokenize\n",
    "stopwords=set(nltk.corpus.stopwords.words('english'))\n",
    "from collections import defaultdict"
   ]
  },
  {
   "cell_type": "markdown",
   "metadata": {},
   "source": [
    "### Import data and return english sentences"
   ]
  },
  {
   "cell_type": "code",
   "execution_count": 2,
   "metadata": {},
   "outputs": [],
   "source": [
    "data = pd.read_csv(\"Data/clean_pmc.csv\", nrows=10000)"
   ]
  },
  {
   "cell_type": "code",
   "execution_count": 26,
   "metadata": {},
   "outputs": [
    {
     "data": {
      "text/html": [
       "<div>\n",
       "<style scoped>\n",
       "    .dataframe tbody tr th:only-of-type {\n",
       "        vertical-align: middle;\n",
       "    }\n",
       "\n",
       "    .dataframe tbody tr th {\n",
       "        vertical-align: top;\n",
       "    }\n",
       "\n",
       "    .dataframe thead th {\n",
       "        text-align: right;\n",
       "    }\n",
       "</style>\n",
       "<table border=\"1\" class=\"dataframe\">\n",
       "  <thead>\n",
       "    <tr style=\"text-align: right;\">\n",
       "      <th></th>\n",
       "      <th>paper_id</th>\n",
       "      <th>title</th>\n",
       "      <th>authors</th>\n",
       "      <th>affiliations</th>\n",
       "      <th>abstract</th>\n",
       "      <th>text</th>\n",
       "      <th>bibliography</th>\n",
       "      <th>raw_authors</th>\n",
       "      <th>raw_bibliography</th>\n",
       "    </tr>\n",
       "  </thead>\n",
       "  <tbody>\n",
       "    <tr>\n",
       "      <th>0</th>\n",
       "      <td>14572a7a9b3e92b960d92d9755979eb94c448bb5</td>\n",
       "      <td>Immune Parameters of Dry Cows Fed Mannan Oligo...</td>\n",
       "      <td>S T Franklin, M C Newman, K E Newman, K I Meek</td>\n",
       "      <td>S T Franklin (University of Kentucky, 40546-02...</td>\n",
       "      <td>Abstract\\n\\nThe objective of this study was to...</td>\n",
       "      <td>INTRODUCTION\\n\\nThe periparturient period is a...</td>\n",
       "      <td>Immune response of pregnant heifers and cows t...</td>\n",
       "      <td>[{'first': 'S', 'middle': ['T'], 'last': 'Fran...</td>\n",
       "      <td>{'BIBREF0': {'ref_id': 'b0', 'title': 'Immune ...</td>\n",
       "    </tr>\n",
       "    <tr>\n",
       "      <th>1</th>\n",
       "      <td>bb790e8366da63c4f5e2d64fa7bbd5673b93063c</td>\n",
       "      <td>Discontinuous Transcription or RNA Processing ...</td>\n",
       "      <td>Beate Schwer, Paolo Vista, Jan C Vos, Hendrik ...</td>\n",
       "      <td>Beate Schwer, Paolo Vista, Jan C Vos, Hendrik ...</td>\n",
       "      <td>NaN</td>\n",
       "      <td>Discontinuous\\n\\nTranscription or RNA Processi...</td>\n",
       "      <td>Poly (riboadenylic acid) preferentially inhibi...</td>\n",
       "      <td>[{'first': 'Beate', 'middle': [], 'last': 'Sch...</td>\n",
       "      <td>{'BIBREF0': {'ref_id': 'b0', 'title': 'Poly (r...</td>\n",
       "    </tr>\n",
       "    <tr>\n",
       "      <th>2</th>\n",
       "      <td>24f204ce5a1a4d752dc9ea7525082d225caed8b3</td>\n",
       "      <td>NaN</td>\n",
       "      <td>NaN</td>\n",
       "      <td>NaN</td>\n",
       "      <td>NaN</td>\n",
       "      <td>Letter to the Editor\\n\\nThe non-contact handhe...</td>\n",
       "      <td>Novel coronavirus is putting the whole world o...</td>\n",
       "      <td>[]</td>\n",
       "      <td>{'BIBREF0': {'ref_id': 'b0', 'title': 'Novel c...</td>\n",
       "    </tr>\n",
       "    <tr>\n",
       "      <th>3</th>\n",
       "      <td>f5bc62a289ef384131f592ec3a8852545304513a</td>\n",
       "      <td>Pediatric Natural Deaths 30</td>\n",
       "      <td>Elizabeth C Burton, Nicole A Singer</td>\n",
       "      <td>Elizabeth C Burton (Johns Hopkins University S...</td>\n",
       "      <td>NaN</td>\n",
       "      <td>Introduction\\n\\nWorldwide, the leading causes ...</td>\n",
       "      <td>In athletes who experienced sudden death or in...</td>\n",
       "      <td>[{'first': 'Elizabeth', 'middle': ['C'], 'last...</td>\n",
       "      <td>{'BIBREF0': {'ref_id': 'b0', 'title': 'In athl...</td>\n",
       "    </tr>\n",
       "    <tr>\n",
       "      <th>4</th>\n",
       "      <td>ab78a42c688ac199a2d5669e42ee4c39ff0df2b8</td>\n",
       "      <td>A real-time convective PCR machine in a capill...</td>\n",
       "      <td>Yi-Fan Hsieh, Da-Sheng Lee, Ping-Hei Chen, Sha...</td>\n",
       "      <td>Yi-Fan Hsieh (National Taiwan University, 106,...</td>\n",
       "      <td>Abstract\\n\\nThis research reports the design, ...</td>\n",
       "      <td>Introduction\\n\\nMullis et al. developed the po...</td>\n",
       "      <td>The Polymerase Chain Reaction, K B Mullis, F F...</td>\n",
       "      <td>[{'first': 'Yi-Fan', 'middle': [], 'last': 'Hs...</td>\n",
       "      <td>{'BIBREF0': {'ref_id': 'b0', 'title': 'The Pol...</td>\n",
       "    </tr>\n",
       "  </tbody>\n",
       "</table>\n",
       "</div>"
      ],
      "text/plain": [
       "                                   paper_id  \\\n",
       "0  14572a7a9b3e92b960d92d9755979eb94c448bb5   \n",
       "1  bb790e8366da63c4f5e2d64fa7bbd5673b93063c   \n",
       "2  24f204ce5a1a4d752dc9ea7525082d225caed8b3   \n",
       "3  f5bc62a289ef384131f592ec3a8852545304513a   \n",
       "4  ab78a42c688ac199a2d5669e42ee4c39ff0df2b8   \n",
       "\n",
       "                                               title  \\\n",
       "0  Immune Parameters of Dry Cows Fed Mannan Oligo...   \n",
       "1  Discontinuous Transcription or RNA Processing ...   \n",
       "2                                                NaN   \n",
       "3                        Pediatric Natural Deaths 30   \n",
       "4  A real-time convective PCR machine in a capill...   \n",
       "\n",
       "                                             authors  \\\n",
       "0     S T Franklin, M C Newman, K E Newman, K I Meek   \n",
       "1  Beate Schwer, Paolo Vista, Jan C Vos, Hendrik ...   \n",
       "2                                                NaN   \n",
       "3                Elizabeth C Burton, Nicole A Singer   \n",
       "4  Yi-Fan Hsieh, Da-Sheng Lee, Ping-Hei Chen, Sha...   \n",
       "\n",
       "                                        affiliations  \\\n",
       "0  S T Franklin (University of Kentucky, 40546-02...   \n",
       "1  Beate Schwer, Paolo Vista, Jan C Vos, Hendrik ...   \n",
       "2                                                NaN   \n",
       "3  Elizabeth C Burton (Johns Hopkins University S...   \n",
       "4  Yi-Fan Hsieh (National Taiwan University, 106,...   \n",
       "\n",
       "                                            abstract  \\\n",
       "0  Abstract\\n\\nThe objective of this study was to...   \n",
       "1                                                NaN   \n",
       "2                                                NaN   \n",
       "3                                                NaN   \n",
       "4  Abstract\\n\\nThis research reports the design, ...   \n",
       "\n",
       "                                                text  \\\n",
       "0  INTRODUCTION\\n\\nThe periparturient period is a...   \n",
       "1  Discontinuous\\n\\nTranscription or RNA Processi...   \n",
       "2  Letter to the Editor\\n\\nThe non-contact handhe...   \n",
       "3  Introduction\\n\\nWorldwide, the leading causes ...   \n",
       "4  Introduction\\n\\nMullis et al. developed the po...   \n",
       "\n",
       "                                        bibliography  \\\n",
       "0  Immune response of pregnant heifers and cows t...   \n",
       "1  Poly (riboadenylic acid) preferentially inhibi...   \n",
       "2  Novel coronavirus is putting the whole world o...   \n",
       "3  In athletes who experienced sudden death or in...   \n",
       "4  The Polymerase Chain Reaction, K B Mullis, F F...   \n",
       "\n",
       "                                         raw_authors  \\\n",
       "0  [{'first': 'S', 'middle': ['T'], 'last': 'Fran...   \n",
       "1  [{'first': 'Beate', 'middle': [], 'last': 'Sch...   \n",
       "2                                                 []   \n",
       "3  [{'first': 'Elizabeth', 'middle': ['C'], 'last...   \n",
       "4  [{'first': 'Yi-Fan', 'middle': [], 'last': 'Hs...   \n",
       "\n",
       "                                    raw_bibliography  \n",
       "0  {'BIBREF0': {'ref_id': 'b0', 'title': 'Immune ...  \n",
       "1  {'BIBREF0': {'ref_id': 'b0', 'title': 'Poly (r...  \n",
       "2  {'BIBREF0': {'ref_id': 'b0', 'title': 'Novel c...  \n",
       "3  {'BIBREF0': {'ref_id': 'b0', 'title': 'In athl...  \n",
       "4  {'BIBREF0': {'ref_id': 'b0', 'title': 'The Pol...  "
      ]
     },
     "execution_count": 26,
     "metadata": {},
     "output_type": "execute_result"
    }
   ],
   "source": [
    "data.head()"
   ]
  },
  {
   "cell_type": "code",
   "execution_count": 3,
   "metadata": {},
   "outputs": [],
   "source": [
    "data_cleaned = data[data['text'].apply(lambda x: bool(re.match('.*[a-zA-Z]+', x)))]\n",
    "lang = pd.read_csv(\"Data/predicted_lang_10k.csv\", index_col=0).squeeze()\n",
    "data_eng = data_cleaned[lang == 'en']\n",
    "# reset index for use in pd.iterrows()\n",
    "data_eng = data_eng.reset_index()"
   ]
  },
  {
   "cell_type": "markdown",
   "metadata": {},
   "source": [
    "### Define functions to determine recommended isolation period"
   ]
  },
  {
   "cell_type": "code",
   "execution_count": 4,
   "metadata": {},
   "outputs": [],
   "source": [
    "def extract_days(tokenized_sent, anchor_word='days', days_regex=\"[0-9.]+\"):\n",
    "    \n",
    "    # find index position of anchor word in sentence\n",
    "    anchor_pos = tokenized_sent.index(anchor_word)\n",
    "    days=[]\n",
    "\n",
    "    # search for the two words preceding the anchor word and check\n",
    "    # if they are numbers (using days_regex to confirm). If so, add\n",
    "    # them to `days` list and take average. This is useful if a range\n",
    "    # has been given. e.g. 2-6 days will return 4 days.\n",
    "    for i in [anchor_pos-2, anchor_pos-1]:\n",
    "        if i >= 0 and bool(re.match(days_regex, tokenized_sent[i])):\n",
    "            day = re.findall(days_regex, tokenized_sent[i])\n",
    "            days.extend(day)\n",
    "\n",
    "    if days == []:\n",
    "        return None\n",
    "    else:\n",
    "        try:\n",
    "            np.asarray(days, dtype=np.float32).mean()\n",
    "        except:\n",
    "            print(f\"Days list {days} can't be converted to numpy array. Extracted from {tokenized_sent}\")\n",
    "        else:\n",
    "            return np.asarray(days, dtype=np.float32).mean()"
   ]
  },
  {
   "cell_type": "code",
   "execution_count": 5,
   "metadata": {},
   "outputs": [],
   "source": [
    "def recommended_isolation(data, keywords, anchor_word='days', subset=None, threshold=34):\n",
    "\n",
    "    # take subset of data to avoid long run time if requested by user\n",
    "    if subset is not None:\n",
    "        data = data[:subset]\n",
    "\n",
    "    isolation=[]\n",
    "    index=[]\n",
    "    keyword_counter = defaultdict(int)\n",
    "    \n",
    "    # loop through pandas dataframe\n",
    "    for indx, row in data.iterrows():\n",
    "        # split 'text' column into sentences\n",
    "        sents = sent_tokenize(row['text'])\n",
    "        # split those sentences into words\n",
    "        words = [word_tokenize(sent) for sent in sents]\n",
    "        # loop through list of lists where outer list is each sentence and\n",
    "        # inner list is each word in that sentence. Convert to lower text\n",
    "        # and remove stopwords. Then extract the no. of days from each sentence\n",
    "        # that contains a keyword(s).\n",
    "        for sent in words:\n",
    "            sent_clean = [word.lower() for word in sent if word.lower() not in stopwords]\n",
    "            keywords_present = [word for word in keywords if word in sent_clean]\n",
    "            if len(keywords_present) > 0 and anchor_word in sent_clean:\n",
    "                days_from_sent = extract_days(sent_clean)\n",
    "                if days_from_sent is not None and days_from_sent < threshold:\n",
    "                    isolation.append(days_from_sent)\n",
    "                    index.append(indx)\n",
    "                    for keyword_present in keywords_present:\n",
    "                        keyword_counter[keyword_present] += 1\n",
    "            \n",
    "    return isolation, index, keyword_counter"
   ]
  },
  {
   "cell_type": "markdown",
   "metadata": {},
   "source": [
    "### Run word2vec to determine keywords"
   ]
  },
  {
   "cell_type": "code",
   "execution_count": 6,
   "metadata": {},
   "outputs": [
    {
     "name": "stderr",
     "output_type": "stream",
     "text": [
      "c:\\Users\\charl\\anaconda3\\lib\\site-packages\\tqdm\\std.py:697: FutureWarning: The Panel class is removed from pandas. Accessing it from the top-level namespace will also be removed in the next version\n",
      "  from pandas import Panel\n"
     ]
    }
   ],
   "source": [
    "import gensim\n",
    "from gensim.models import Word2Vec\n",
    "from tqdm import tqdm\n",
    "tqdm.pandas()"
   ]
  },
  {
   "cell_type": "code",
   "execution_count": 7,
   "metadata": {},
   "outputs": [
    {
     "name": "stderr",
     "output_type": "stream",
     "text": [
      "100%|██████████| 6427/6427 [13:11<00:00,  8.12it/s] \n"
     ]
    }
   ],
   "source": [
    "corpus=[]\n",
    "for index, row in tqdm(data_eng.iterrows(), total=data_eng.shape[0]):\n",
    "    words = word_tokenize(row['text'])\n",
    "    words_cleaned = [word.lower() for word in words if word.lower() not in stopwords]\n",
    "    corpus.append(words_cleaned)"
   ]
  },
  {
   "cell_type": "code",
   "execution_count": 8,
   "metadata": {},
   "outputs": [],
   "source": [
    "model = Word2Vec(sentences=corpus)"
   ]
  },
  {
   "cell_type": "code",
   "execution_count": 9,
   "metadata": {},
   "outputs": [],
   "source": [
    "model.save(\"Data/word2vec_embeddings_10k.model\")"
   ]
  },
  {
   "cell_type": "code",
   "execution_count": 36,
   "metadata": {},
   "outputs": [
    {
     "data": {
      "text/plain": [
       "[('intravitreal', 0.7313181161880493),\n",
       " ('i.t', 0.6864265203475952),\n",
       " ('qingkailing', 0.6757372617721558),\n",
       " ('intraperitoneal', 0.6621809601783752),\n",
       " ('rhcat', 0.6610978841781616),\n",
       " ('aav6-hserca2a', 0.6581068634986877),\n",
       " ('cpg-odn', 0.656329333782196),\n",
       " ('pha-p', 0.6558051705360413),\n",
       " ('carrageenan', 0.6556609869003296),\n",
       " ('adv-pk15', 0.6544021964073181)]"
      ]
     },
     "execution_count": 36,
     "metadata": {},
     "output_type": "execute_result"
    }
   ],
   "source": [
    "model.wv.most_similar('caws')"
   ]
  },
  {
   "cell_type": "markdown",
   "metadata": {},
   "source": [
    "### Define keywords and run functions"
   ]
  },
  {
   "cell_type": "code",
   "execution_count": 6,
   "metadata": {},
   "outputs": [],
   "source": [
    "keywords = ['quarantine', 'quarantining', 'quarantined', 'containment', 'notification', 'precautionary', 'quarantines', 'precautions', 'compulsory', 'tracing', 'precaution']\n",
    "days_to_isolate = recommended_isolation(data_eng, keywords=keywords, subset=5000)"
   ]
  },
  {
   "cell_type": "code",
   "execution_count": 7,
   "metadata": {},
   "outputs": [
    {
     "name": "stdout",
     "output_type": "stream",
     "text": [
      "Median recommended isolation: 10.0 days\n",
      "Number of keywords found: 75\n"
     ]
    }
   ],
   "source": [
    "a = np.asarray(days_to_isolate[0], dtype=np.float32)\n",
    "print(f'Median recommended isolation: {np.median(a)} days')\n",
    "print(f'Number of keywords found: {len(days_to_isolate[0])}')"
   ]
  },
  {
   "cell_type": "markdown",
   "metadata": {},
   "source": [
    "### Error analysis"
   ]
  },
  {
   "cell_type": "code",
   "execution_count": 8,
   "metadata": {},
   "outputs": [],
   "source": [
    "import matplotlib.pyplot as plt"
   ]
  },
  {
   "cell_type": "code",
   "execution_count": 9,
   "metadata": {},
   "outputs": [
    {
     "data": {
      "image/png": "[encoded data removed]",
      "text/plain": [
       "<Figure size 432x288 with 1 Axes>"
      ]
     },
     "metadata": {
      "needs_background": "light"
     },
     "output_type": "display_data"
    }
   ],
   "source": [
    "result = plt.boxplot(a)\n",
    "plt.show()"
   ]
  },
  {
   "cell_type": "code",
   "execution_count": 10,
   "metadata": {},
   "outputs": [
    {
     "data": {
      "image/png": "[encoded data removed]",
      "text/plain": [
       "<Figure size 432x288 with 1 Axes>"
      ]
     },
     "metadata": {
      "needs_background": "light"
     },
     "output_type": "display_data"
    }
   ],
   "source": [
    "plt.hist(a)\n",
    "plt.xlabel(\"Days\")\n",
    "plt.ylabel(\"Frequency\")\n",
    "plt.show()"
   ]
  },
  {
   "cell_type": "code",
   "execution_count": 11,
   "metadata": {},
   "outputs": [
    {
     "data": {
      "image/png": "[encoded data removed]",
      "text/plain": [
       "<Figure size 432x288 with 1 Axes>"
      ]
     },
     "metadata": {
      "needs_background": "light"
     },
     "output_type": "display_data"
    }
   ],
   "source": [
    "df = pd.DataFrame(days_to_isolate[2].items(), columns=['keyword', 'frequency'])\n",
    "df = df.sort_values('frequency', ascending=True)\n",
    "df.plot(x='keyword', y='frequency', kind='barh', legend=False)\n",
    "plt.title('Frequency of keywords found in search')\n",
    "plt.ylabel('')\n",
    "plt.show()"
   ]
  },
  {
   "cell_type": "code",
   "execution_count": 13,
   "metadata": {},
   "outputs": [
    {
     "name": "stdout",
     "output_type": "stream",
     "text": [
      "Day Index \n",
      "---------\n",
      "14.0 22\n",
      "4.6 22\n",
      "14.0 22\n",
      "30.0 89\n",
      "5.0 243\n",
      "14.5 243\n",
      "21.0 243\n",
      "3.0 426\n",
      "5.0 426\n",
      "5.0 426\n",
      "14.0 657\n",
      "14.0 657\n",
      "8.0 657\n",
      "7.0 673\n",
      "30.0 728\n",
      "14.0 876\n",
      "3.0 968\n",
      "7.0 974\n",
      "2.5 981\n",
      "30.0 1029\n",
      "30.0 1029\n",
      "3.5 1051\n",
      "10.0 1086\n",
      "3.0 1126\n",
      "7.0 1126\n",
      "14.0 1270\n",
      "7.0 1365\n",
      "10.5 1495\n",
      "4.4 1528\n",
      "30.0 1617\n",
      "10.0 1617\n",
      "14.0 1617\n",
      "14.0 1856\n",
      "14.0 1856\n",
      "14.0 1856\n",
      "5.0 2104\n",
      "30.0 2209\n",
      "3.0 2406\n",
      "10.0 2477\n",
      "10.0 2564\n",
      "10.0 2691\n",
      "14.0 2769\n",
      "10.0 3021\n",
      "5.0 3060\n",
      "14.0 3071\n",
      "17.0 3146\n",
      "1.5 3263\n",
      "7.0 3397\n",
      "14.0 3397\n",
      "7.0 3397\n",
      "30.0 3478\n",
      "30.0 3501\n",
      "10.0 3640\n",
      "9.0 3704\n",
      "10.0 3704\n",
      "3.0 3779\n",
      "2.0 3779\n",
      "10.0 3779\n",
      "2.0 3779\n",
      "10.0 3779\n",
      "14.0 3906\n",
      "7.0 4050\n",
      "10.0 4211\n",
      "30.0 4250\n",
      "3.0 4306\n",
      "3.0 4306\n",
      "5.5 4402\n",
      "30.0 4460\n",
      "1.5 4500\n",
      "11.0 4527\n",
      "14.0 4550\n",
      "10.0 4600\n",
      "30.0 4932\n",
      "15.0 4932\n",
      "5.0 4967\n"
     ]
    }
   ],
   "source": [
    "print(\"Day\", \"Index\", \"\\n---------\")\n",
    "for day, index in zip(days_to_isolate[0], days_to_isolate[1]):\n",
    "    print(day, index)"
   ]
  },
  {
   "cell_type": "code",
   "execution_count": 114,
   "metadata": {},
   "outputs": [],
   "source": [
    "print(data_eng.iloc[678, 6])"
   ]
  }
 ],
 "metadata": {
  "interpreter": {
   "hash": "16196ea7eff63910081d4e10ae1bdb1eb18fd83cb470bb8efbb9fa6b0c724af5"
  },
  "kernelspec": {
   "display_name": "Python 3.8.5 ('base')",
   "language": "python",
   "name": "python3"
  },
  "language_info": {
   "codemirror_mode": {
    "name": "ipython",
    "version": 3
   },
   "file_extension": ".py",
   "mimetype": "text/x-python",
   "name": "python",
   "nbconvert_exporter": "python",
   "pygments_lexer": "ipython3",
   "version": "3.8.5"
  },
  "orig_nbformat": 4
 },
 "nbformat": 4,
 "nbformat_minor": 2
}
