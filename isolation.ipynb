{
 "cells": [
  {
   "cell_type": "markdown",
   "metadata": {},
   "source": [
    "### How long should people infected with the virus isolate for? Possible steps to answer this are:\n",
    "- Find all terms that describe isolation (incubation, quarantine, isolation, infectious, transmissable, spreading, transferable, contagious)\n",
    "- Look for all numbers used near these words (in the form 'XX days') that describe the recommend isolation period.\n",
    "- Put all numbers into a list and average them to determine the recommended isolation period.\n",
    "- Spot check a few examples to check it's working as expected."
   ]
  },
  {
   "cell_type": "code",
   "execution_count": 52,
   "metadata": {},
   "outputs": [],
   "source": [
    "import pandas as pd\n",
    "import re\n",
    "import numpy as np\n",
    "import nltk\n",
    "from nltk.tokenize import sent_tokenize, word_tokenize\n",
    "stopwords=set(nltk.corpus.stopwords.words('english'))\n",
    "from collections import defaultdict"
   ]
  },
  {
   "cell_type": "code",
   "execution_count": 2,
   "metadata": {},
   "outputs": [],
   "source": [
    "data = pd.read_csv(\"Data/clean_pmc.csv\", nrows=10000)"
   ]
  },
  {
   "cell_type": "code",
   "execution_count": 3,
   "metadata": {},
   "outputs": [],
   "source": [
    "data_cleaned = data[data['text'].apply(lambda x: bool(re.match('.*[a-zA-Z]+', x)))]\n",
    "lang = pd.read_csv(\"Data/predicted_lang_10k.csv\", index_col=0).squeeze()\n",
    "data_eng = data_cleaned[lang == 'en']\n",
    "# reset index for use in pd.iterrows()\n",
    "data_eng = data_eng.reset_index()"
   ]
  },
  {
   "cell_type": "code",
   "execution_count": 4,
   "metadata": {},
   "outputs": [],
   "source": [
    "def extract_days(tokenized_sent, anchor_word='days', days_regex=\"[0-9.]+\"):\n",
    "    \n",
    "    # find index position of anchor word in sentence\n",
    "    anchor_pos = tokenized_sent.index(anchor_word)\n",
    "    days=[]\n",
    "\n",
    "    # search for the two words preceding the anchor word and check\n",
    "    # if they are numbers (using days_regex to confirm). If so, add\n",
    "    # them to `days` list and take average. This is useful if a range\n",
    "    # has been given. e.g. 2-6 days will return 4 days.\n",
    "    for i in [anchor_pos-2, anchor_pos-1]:\n",
    "        if i >= 0 and bool(re.match(days_regex, tokenized_sent[i])):\n",
    "            day = re.findall(days_regex, tokenized_sent[i])\n",
    "            days.extend(day)\n",
    "\n",
    "    if days == []:\n",
    "        return None\n",
    "    else:\n",
    "        try:\n",
    "            np.asarray(days, dtype=np.float32).mean()\n",
    "        except:\n",
    "            print(f\"Days list {days} can't be converted to numpy array. Extracted from {tokenized_sent}\")\n",
    "        else:\n",
    "            return np.asarray(days, dtype=np.float32).mean()"
   ]
  },
  {
   "cell_type": "code",
   "execution_count": 63,
   "metadata": {},
   "outputs": [],
   "source": [
    "def recommended_isolation(data, keywords, anchor_word='days', subset=None):\n",
    "\n",
    "    # take subset of data to avoid long run time if requested by user\n",
    "    if subset is not None:\n",
    "        data = data[:subset]\n",
    "\n",
    "    isolation=[]\n",
    "    index=[]\n",
    "    keyword_counter = defaultdict(int)\n",
    "    \n",
    "    # loop through pandas dataframe\n",
    "    for indx, row in data.iterrows():\n",
    "        # split 'text' column into sentences\n",
    "        sents = sent_tokenize(row['text'])\n",
    "        # split those sentences into words\n",
    "        words = [word_tokenize(sent) for sent in sents]\n",
    "        # loop through list of lists where outer list is each sentence and\n",
    "        # inner list is each word in that sentence. Convert to lower text\n",
    "        # and remove stopwords. Then extract the no. of days from each sentence\n",
    "        # that contains a keyword(s).\n",
    "        for sent in words:\n",
    "            sent_clean = [word.lower() for word in sent if word.lower() not in stopwords]\n",
    "            keywords_present = [word for word in keywords if word in sent_clean]\n",
    "            if len(keywords_present) > 0 and anchor_word in sent_clean:\n",
    "                days_from_sent = extract_days(sent_clean)\n",
    "                if days_from_sent is not None:\n",
    "                    isolation.append(days_from_sent)\n",
    "                    index.append(indx)\n",
    "                    for keyword_present in keywords_present:\n",
    "                        keyword_counter[keyword_present] += 1\n",
    "            \n",
    "    return isolation, index, keyword_counter"
   ]
  },
  {
   "cell_type": "markdown",
   "metadata": {},
   "source": [
    "Most similar words to \"quarantine\" from word2vec\n",
    "\n",
    "- 'quarantining', 0.7624921798706055),\n",
    "- 'quarantined', 0.7381011843681335),\n",
    "- 'lockdown', 0.6942132115364075),\n",
    "- 'compulsory', 0.693280816078186),\n",
    "- 'workplace', 0.6875447034835815),\n",
    "- 'visitors', 0.6798210740089417),\n",
    "- 'voluntary', 0.6777964234352112),\n",
    "- 'containment', 0.6706152558326721),\n",
    "- 'tracing', 0.6631444692611694),\n",
    "- 'restrictions', 0.6465995907783508)"
   ]
  },
  {
   "cell_type": "code",
   "execution_count": 124,
   "metadata": {},
   "outputs": [],
   "source": [
    "keywords = ['quarantine', 'quarantining', 'quarantined', 'lockdown', 'compulsory', 'workplace']\n",
    "days_to_isolate = recommended_isolation(data_eng, keywords=keywords, subset=1000)"
   ]
  },
  {
   "cell_type": "code",
   "execution_count": 118,
   "metadata": {},
   "outputs": [
    {
     "data": {
      "text/plain": [
       "defaultdict(int, {'quarantine': 12})"
      ]
     },
     "execution_count": 118,
     "metadata": {},
     "output_type": "execute_result"
    }
   ],
   "source": [
    "days_to_isolate[2]"
   ]
  },
  {
   "cell_type": "code",
   "execution_count": 119,
   "metadata": {},
   "outputs": [
    {
     "name": "stdout",
     "output_type": "stream",
     "text": [
      "Median recommended isolation: 14.0 days\n",
      "Number of keywords found: 12\n"
     ]
    }
   ],
   "source": [
    "a = np.asarray(days_to_isolate[0], dtype=np.float32)\n",
    "print(f'Median recommended isolation: {np.median(a)} days')\n",
    "print(f'Number of keywords found: {len(days_to_isolate[0])}')"
   ]
  },
  {
   "cell_type": "code",
   "execution_count": 120,
   "metadata": {},
   "outputs": [
    {
     "name": "stdout",
     "output_type": "stream",
     "text": [
      "[100.0, 100.0, 14.0, 5.0, 30.0, 14.0, 3.0, 14.0, 10.5, 14.0, 14.0, 14.0]\n",
      "[10, 10, 22, 426, 728, 876, 968, 1270, 1495, 1617, 1856, 1856]\n"
     ]
    }
   ],
   "source": [
    "print(days_to_isolate[0])\n",
    "print(days_to_isolate[1])"
   ]
  },
  {
   "cell_type": "code",
   "execution_count": 123,
   "metadata": {},
   "outputs": [
    {
     "name": "stdout",
     "output_type": "stream",
     "text": [
      "Introduction\n",
      "\n",
      "An outbreak of the Middle East respiratory syndrome coronavirus (MERS-CoV) infection occurred in Korea from May to December 2015, resulting in 186 cases of infection, 38 deaths (20.4% of total cases), and 16,692 exposed individuals experiencing home quarantine for two weeks [1] . It was defined as a disaster and the management of the outbreak was led by the Korean Centers for Disease Control and Prevention (KCDC), which was then responsible for the oversight of our hospital. About 3.8% of 186 cases of MERS and 2% of 16,692 home quarantine cases were linked to our hospital. 0.1% of all hospital workers were confirmed to be MERS positive and 18.9% were home quarantined. Kyung Hee University Hospital at Gangdong, located in Seoul, shut down its artificial kidney center and implemented cohort quarantine after a patient undergoing hemodialysis for renal failure was confirmed on June 17, 2015 to have MERS, the first in our hospital and the 165th patient nationally. After the 167th patient with MERS was confirmed on June 19, 2015, it was decided, for the first time in Korea, that all 104 patients actively undergoing treatment in the artificial kidney center at X Hospital would be hospital quarantined in private rooms and receive inpatient care, and the hospital was immediately closed until July 13, 2015. According to research on other infectious diseases, including severe acute respiratory syndrome (SARS) and Ebola virus disease, many healthcare workers experience severe emotional stress during the outbreak [2] [3] [4] . It has also been shown that healthcare workers experience burnout, traumatic stress, anxiety, and depressive symptoms even after the outbreak [4] . Previous research has found that the prevalence of post-traumatic stress disorder (PTSD) was also increased among survivors of infectious diseases [5] .Although the emergence of SARS stimulated related research, there remains little research on the psychological impact of people directly exposed to infectious disease outbreaks [6] . There are few known studies till to date about the effect of MERS infection on mental health [7] . Those studies that are available have analyzed factors related to symptoms of anxiety and anger after home quarantine during the MERS outbreak [8] and reported that individuals experienced increased anxiety with a higher degree of knowledge about the disease during the initial stages of the MERS outbreak, and a greater trust in unofficial information [9] .The present study aimed to understand the immediate stress and psychological impact experienced by healthcare workers who treated patients MERS during the outbreak period, and hospital quarantined patients, especially undergoing hemodialysis, who had been exposed to MERS.\n",
      "\n",
      "Participants\n",
      "\n",
      "At the time of the MERS outbreak, 1800 hospital workers were on duty at Kyung Hee University Hospital at Gangdong. Case of MERS was identified in the artificial kidney center and a total of 73 patients undergoing hemodialysis were quarantined in the hospital. These hospital workers and patients were eligible for inclusion in this study, which was approved by the Ethics Review Committee of the Medical Research Institute, Kyung Hee University Hospital at Gangdong (IRB No. 2017-09-029).\n",
      "\n",
      "Measures\n",
      "\n",
      "The Impact of Events Scale-Revised (IES-R) Korean version was used to assess the psychological distress in hospital workers. The IES-R, developed by Weiss and Marmar is a 22-item, 5-point scale (0, not at all; 1, a little bit; 2, moderately; 3, quite a bit; 4, extremely) with a Cronbach's alpha of 0.93. The IES-R Korean version yields a total score (ranging from 0 to 88) and subscale scores which can be calculated for the hyperarousal (consisting of the following items: 4, 10, 14, 18, 19, 21) , avoidance (consisting of the following items: 5, 8, 11, 12, 17, 22) , intrusion (consisting of the following items: 1, 3, 6, 9, 16) , and sleep and numbness (consisting of the following items: 2, 7, 13, 15, 20) subscales of PTSD [10] . The internal consistency of the IES-R Korean version was 0.69-0.83 [11] . In the Korean version, a total score equal to or N25 was suggested to indicate a diagnosis of PTSD, and a score equal to or N18 was indicative of the presence of PTSD-like symptoms.The Hospital Anxiety and Depression Scale (HADS) has 14-items and a 4-Likert scale (0-3) and was administered to the 73 patients in hospital quarantine undergoing hemodialysis [12] . The Cronbach's alphas were 0.89 and 0.86 [13] . Patients were then assessed on the Mini International Neuropsychiatric Interview (MINI). An abbreviated self-rated Korean version of the MINI was developed for the screening of common anxiety disorders (panic disorder, general anxiety disorder, and social anxiety disorder) and major depressive disorder (MDD). Participants were suggested of having a panic disorder if they scored N4 points, general anxiety disorder (GAD) if the score was N3 points, social anxiety disorder if the score was N4 points, and MDD if the score was N5 points in the respective modules. The Kappa values were in the expected range of 0.49 for panic disorder, 0.60 for GAD, 0.60 for social anxiety disorder, and 0.59 for MDD [14] .\n",
      "\n",
      "Procedure\n",
      "\n",
      "The IES-R was administered via email and mobile devices to 1800 practitioners that were on duty during the outbreak period. The survey was administered twice, once during the hospital shutdown and once a month after the shutdown was cleared (Fig. 1) . The HADS was administered during the admission process to the 73 patients undergoing hemodialysis that were in quarantine at the hospital. The MINI was assessed by telephone during the patients' hospitalization period.\n",
      "\n",
      "Analyses\n",
      "\n",
      "Differences across symptoms in the IES-R scores depending on home quarantine and the performance of MERS-related tasks were examined using a t-test or ANOVA. Post-hoc comparisons were conducted to examine the differences across job types. The statistical significance level was set at 1% for two-sided tests. The software package SPSS 11.0 for Windows was used for statistical analyses.\n",
      "\n",
      "Demographic characteristics and IES-R scores of healthcare workers\n",
      "\n",
      "Of the 1800 hospital practitioners who were on duty during the MERS outbreak, 359 completed the first survey. The total response rate was 19.9%. The response rates stratified by employment group were as follows: doctor (33.1% of total workers), 5%; technician (10.4%), 29.4%; nurse (31.5%), 34.6%; pharmacist (2.1%), 21.7%; administrative (10.1%), 17%; others (12.8%), 17%. The first survey consisted of 294 female (81.9%) and 65 male (18.1%) respondents, with 182 respondents in their 30s (50.7%), the most well-represented age group. There were 196 nurses (54.6%), who formed the majority of respondents, followed by 55 medical technicians (15.3%), 31 administrators (8.6%), 30 doctors (8.4%), 8 pharmacists (2.2%), and 39 others (10.9%). Ninety-two respondents (25.6% of total respondents) experienced home quarantine, and 185 (51.5%) performed MERS-related tasks. The mean IES-R score was 26.3 ± 19.09. Of all respondents, 230 (64.1%) received a score of 18 or higher, indicating the presence of PTSD-like symptoms, while 183 respondents (51.5%) exceeded the cut-off score of 25 for a diagnosis of PTSD.Those with IES-R scores of 25 or higher in the first survey were designated as the high-risk group, and administered a second survey after six weeks, to which 77 responded (response rate 43.8%). The effect size between the first and second survey was 1.18 (Cohen's d, T = 10.07, p b .001). The second survey was comprised of 70 female (90.9%) and 7 male (9.1%) respondents, with 44 respondents in their 30s (57.1%), the largest age group. Most respondents in the second survey were nurses, who accounted for 53 responses (68.8%), followed by 7 medical technicians, 7 administrators (9.1% each), 3 doctors, 3 pharmacists (3.9% each), and 4 others (5.2%). Twenty-three (29.9%) respondents in the second survey experienced home quarantine, and 50 (64.9%) performed MERS-related tasks. The IES-R identified 42 respondents (54.5%) as having the presence of PTSD-like symptoms, and 31 (40.3%) as being eligible for a diagnosis of PTSD.In the mean IES-R scores of the first survey respondents, there was a significant difference between those who performed MERS-related tasks and those who did not [related vs unrelated, 30.02 ± 19.55 vs 22.33 ± 17.70, T = −3.894, p b .001]. Post-hoc comparisons were conducted to examine differences across job types. While the difference between nurses and doctors approached the p value of .048, no statistically significant differences were found (Table 1) . We compared IES-R scores and characteristics between respondents who completed the second survey and those who did not: IES-R score ( 14) . No significant differences were found between the two groups.\n",
      "\n",
      "Comparison of IES-R sub-scores among healthcare workers\n",
      "\n",
      "For respondents in the first and second surveys, IES-R scores were compared across symptoms, depending on the implementation of home quarantine and performance of MERS-related tasks. The proportion of staff involved in caring for MERS patients was 18.89%; 27.1% of them participated in the survey.In the first survey, the healthcare workers who performed MERSrelated tasks had significantly higher total IES-R scores (T = 3.894, p b .001) and sub-scores, including hyperarousal (T = 3.535, p b .001), avoidance (T = 3.573, p b .001), intrusion (T = 3.756, p b .001), and sleep and numbness (T = 3.583, p b .001), than those who did not ( Table 2 ). In the second survey, the home quarantined healthcare workers showed higher scores in the sleep and numbness sub-score (p = .03) than those who were not quarantined, and the healthcare workers who performed MERS-related tasks had higher scores in the intrusion sub-score (p = .03) than those who did not; however, these showed no statistical significance.\n",
      "\n",
      "Psychological impact on patients in hospital quarantine during the MERS outbreak\n",
      "\n",
      "During the MERS outbreak, a total of 73 patients undergoing hemodialysis were quarantined in the hospital, including 41 male (56.2%) and 32 female (43.8%) patients. Their mean age was 61.3 ± 13.03 years. During the hospital quarantine, 62 patients (84.9%) were hospitalized for 7 to 14 days. The MINI was administered to the patients undergoing hemodialysis; 4 (5.5%) scored 5 or above on the A -MDD item and 8 (11%) scored 3 or above on the B -GAD item. In the HADS, 8 patients (11%) scored 8 or above on the anxiety item and 11 (15.1%) scored 8 or above on the depression item (Table 3) .\n",
      "\n",
      "Discussion\n",
      "\n",
      "The main results of the present study indicate that during the initial stages of the MERS outbreak, healthcare workers who performed MERSrelated tasks scored significantly higher on the total IES-R and all symptom subscales; this suggests that they be the main targets of psychiatric assessment and care. These results are consistent with the findings from research regarding the 2003 SARS outbreak demonstrating that 18 to 57% of healthcare workers experienced severe emotional distress during and immediately after the outbreak [2, 3, [15] [16] [17] .During the acute infection stage, performing MERS-related tasks could have resulted in serious psychological distress. That is, in the present study, the group that performed MERS-related tasks during the acute infection stage scored significantly higher on the IES-R than the group that did not perform such tasks (mean ± standard deviation, 30.02 ± 19.55 vs 22.33 ± 17.70). The higher scores persisted above 25 even after time had elapsed (related vs unrelated, 26.08 ± 22.15 vs 17.0 ± 14.09). Thus, this suggests that hospital workers who performed MERS-related tasks were at risk of experiencing PTSD-like symptoms even after some time had passed. While the trauma appears to play the most important etiological role in the PTSD symptoms, there are some predisposing vulnerability factors suggested, such as childhood trauma, personality disorder traits, an inadequate support system, comorbid psychiatric illness, and excessive alcohol intake [18] . Based on this, we assume that some respondents with persisting high IES-R scores during the second survey might have these vulnerability factors rather than the trauma itself, MERS-related task.There were no differences in the IES-R scores in the first survey respondents between those who did and did not experience home quarantine. However, both the home quarantine and the non-quarantine groups had mean IES-R scores of 25 or above, which can be categorized as reaching the threshold for PTSD diagnosis. This may be due to the fact that the first survey was conducted at the acute infection stage of the MERS outbreak, and that overall, respondents had high scores with a mean of 26.3. Although the mean IES-R scores in the second survey differed between respondents who were and were not home-quarantined (28.3 ± 20.19 vs 20.74 ± 19.74), the difference was not statistically significant. However, among the second survey respondents, the home-quarantined group had a mean IES-R score of 25 or higher, suggesting that the effect of home quarantine is strong enough to result in levels that would categorize them with a PTSD diagnosis, even after the acute infection period. In the assessment of the high-risk group determined from the first survey, the IES-R sleep and numbness subscores tended to be higher in the home-quarantined group (p = .03) during the second survey. This is consistent with the results of a study conducted during the 2014 Nigerian Ebola viral disease outbreak, which examined the psychological distress of survivors and their close contacts and found that loss of sleep over worry was the second most frequent complaint [19] . Thus, taken together, we suggest that even after time has passed following the acute infection period, sleep and numbness symptoms are persistent in healthcare workers and survivors, emphasizing the importance of assessment and management.A number of recent, large, and well-conducted studies have confirmed markedly increased rates of depression among those with chronic kidney disease, with a meta-analysis suggesting the prevalence of interview-defined depression to be approximately 20% [20] . A German explorative study on the frequency of MDD and GAD reported that GAD was diagnosed in 9 patients (17%), while 12 patients (23%) scored higher than seven points on the HADS anxiety subscale [21] . In the present study of hospital quarantined renal patients, the proportion of depression assessed using an abbreviated MINI was 5.5%, while when it was assessed using HADS was 15.1%. The proportion of patients with GAD assessed using the abbreviated MINI and HADS was 11%. Patients undergoing hemodialysis, who received care while being quarantined for a month at the hospital after the MERS outbreak, showed a good level of adjustment and had low rates of reporting psychological distress (Table 3 ). It appears that this is because the quarantined patients wanted to receive inpatient care and hemodialysis in the first place, and because psychological support was provided by the hospital psychiatrists immediately after patients were quarantined.The limitations of the present study are as follows. First, there are limitations to generalizing the sample, as the response rates by employment group were different, which may be due to a restricted sampling during the outbreak, as the subjects were healthcare workers and patients at a local hospital that treated MERS patients. Second, as only a survey method was used for the hospital workers, qualitative methods, including interviews, could not be simultaneously conducted. Third, the survey was limited to the MERS outbreak, and did not consider other potential variables, such as preexisting psychiatric conditions or individual personality issues before the outbreak. Another limitation is that the sampling of this study was voluntary and conducted by e-mail and mobile devices. Therefore, the possibility of a self-selection sampling bias as a factor accounting for the prevalence of psychiatric morbidity should be considered. Despite these limitations, this study examined the medical staff and patients at a hospital directly affected by the MERS outbreak, and demonstrated the effect of stress caused by MERS on their sociopsychological health.\n",
      "\n",
      "Conclusion\n",
      "\n",
      "The results of this study suggest that medical staff that performed MERS-related tasks were at a higher risk of displaying symptoms of PTSD even after time had passed, and the risk was increased in sleep and numbness-related symptoms in particular with the implementation of home quarantine. Previously, when SARS occurred in South Korea, the awareness regarding mental health issues related to infectious diseases was low and no psychological guidelines existed for large-scale quarantine and isolation situations during the pandemic period [16, 22] . Therefore, there should be more awareness regarding this population as targets for psychiatric care, and prompt and continuous psychiatric intervention for outbreaks of life-threatening, epidemicpotential infectious diseases, in which the psychiatrist's role should be emphasized.\n",
      "\n",
      "\n"
     ]
    }
   ],
   "source": [
    "print(data_eng.iloc[1270, 6])"
   ]
  },
  {
   "cell_type": "code",
   "execution_count": 6,
   "metadata": {},
   "outputs": [
    {
     "name": "stderr",
     "output_type": "stream",
     "text": [
      "C:\\Users\\charl\\anaconda3\\lib\\site-packages\\tqdm\\std.py:697: FutureWarning: The Panel class is removed from pandas. Accessing it from the top-level namespace will also be removed in the next version\n",
      "  from pandas import Panel\n"
     ]
    }
   ],
   "source": [
    "import gensim\n",
    "from gensim.models import Word2Vec\n",
    "from tqdm import tqdm\n",
    "tqdm.pandas()"
   ]
  },
  {
   "cell_type": "code",
   "execution_count": 26,
   "metadata": {},
   "outputs": [
    {
     "name": "stderr",
     "output_type": "stream",
     "text": [
      "100%|██████████| 5000/5000 [09:42<00:00,  8.58it/s]  \n"
     ]
    }
   ],
   "source": [
    "corpus=[]\n",
    "for index, row in tqdm(data_eng[:5000].iterrows(), total=data_eng[:5000].shape[0]):\n",
    "    words = word_tokenize(row['text'])\n",
    "    words_cleaned = [word.lower() for word in words if word.lower() not in stopwords]\n",
    "    corpus.append(words_cleaned)"
   ]
  },
  {
   "cell_type": "code",
   "execution_count": 27,
   "metadata": {},
   "outputs": [],
   "source": [
    "model = Word2Vec(sentences=corpus)"
   ]
  },
  {
   "cell_type": "code",
   "execution_count": 108,
   "metadata": {},
   "outputs": [
    {
     "data": {
      "text/plain": [
       "[('quarantining', 0.7624921798706055),\n",
       " ('quarantined', 0.7381011843681335),\n",
       " ('lockdown', 0.6942132115364075),\n",
       " ('compulsory', 0.693280816078186),\n",
       " ('workplace', 0.6875447034835815),\n",
       " ('visitors', 0.6798210740089417),\n",
       " ('voluntary', 0.6777964234352112),\n",
       " ('containment', 0.6706152558326721),\n",
       " ('tracing', 0.6631444692611694),\n",
       " ('restrictions', 0.6465995907783508)]"
      ]
     },
     "execution_count": 108,
     "metadata": {},
     "output_type": "execute_result"
    }
   ],
   "source": [
    "model.wv.most_similar('quarantine')"
   ]
  }
 ],
 "metadata": {
  "interpreter": {
   "hash": "483cab17ea47bf3dc62612f79753baa304c994dab11b0cb1ba24b5d79c042b44"
  },
  "kernelspec": {
   "display_name": "Python 3.8.5 ('base')",
   "language": "python",
   "name": "python3"
  },
  "language_info": {
   "codemirror_mode": {
    "name": "ipython",
    "version": 3
   },
   "file_extension": ".py",
   "mimetype": "text/x-python",
   "name": "python",
   "nbconvert_exporter": "python",
   "pygments_lexer": "ipython3",
   "version": "3.8.5"
  },
  "orig_nbformat": 4
 },
 "nbformat": 4,
 "nbformat_minor": 2
}
