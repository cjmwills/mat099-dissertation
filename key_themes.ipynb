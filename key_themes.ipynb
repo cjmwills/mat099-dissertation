{
 "cells": [
  {
   "cell_type": "code",
   "execution_count": 9,
   "metadata": {},
   "outputs": [],
   "source": [
    "import os\n",
    "import json\n",
    "from pprint import pprint\n",
    "import pandas as pd\n",
    "import sklearn\n",
    "import nltk"
   ]
  },
  {
   "cell_type": "code",
   "execution_count": 5,
   "metadata": {},
   "outputs": [],
   "source": [
    "data_dir = 'Data/pdf_json/'\n",
    "filenames = os.listdir(data_dir)\n",
    "\n",
    "papers=[]\n",
    "for filename in filenames[:10]:\n",
    "    file = data_dir + filename\n",
    "    paper = json.load(open(file, 'rb'))\n",
    "    body_texts = [body_text['text'] for body_text in paper['body_text']]\n",
    "    text_joined=''\n",
    "    for text in body_texts:\n",
    "        text_joined += text\n",
    "    papers.append(text_joined)\n"
   ]
  },
  {
   "cell_type": "code",
   "execution_count": 38,
   "metadata": {},
   "outputs": [
    {
     "data": {
      "text/html": [
       "<div>\n",
       "<style scoped>\n",
       "    .dataframe tbody tr th:only-of-type {\n",
       "        vertical-align: middle;\n",
       "    }\n",
       "\n",
       "    .dataframe tbody tr th {\n",
       "        vertical-align: top;\n",
       "    }\n",
       "\n",
       "    .dataframe thead th {\n",
       "        text-align: right;\n",
       "    }\n",
       "</style>\n",
       "<table border=\"1\" class=\"dataframe\">\n",
       "  <thead>\n",
       "    <tr style=\"text-align: right;\">\n",
       "      <th></th>\n",
       "      <th>0</th>\n",
       "    </tr>\n",
       "  </thead>\n",
       "  <tbody>\n",
       "    <tr>\n",
       "      <th>0</th>\n",
       "      <td>VP3, and VP0 (which is further processed to VP...</td>\n",
       "    </tr>\n",
       "    <tr>\n",
       "      <th>1</th>\n",
       "      <td>In December 2019, a novel coronavirus, SARS-Co...</td>\n",
       "    </tr>\n",
       "    <tr>\n",
       "      <th>2</th>\n",
       "      <td>The 2019-nCoV epidemic has spread across China...</td>\n",
       "    </tr>\n",
       "    <tr>\n",
       "      <th>3</th>\n",
       "      <td>Metagenomic sequencing, which allows us to dir...</td>\n",
       "    </tr>\n",
       "    <tr>\n",
       "      <th>4</th>\n",
       "      <td>Infectious bronchitis (IB), which is caused by...</td>\n",
       "    </tr>\n",
       "  </tbody>\n",
       "</table>\n",
       "</div>"
      ],
      "text/plain": [
       "                                                   0\n",
       "0  VP3, and VP0 (which is further processed to VP...\n",
       "1  In December 2019, a novel coronavirus, SARS-Co...\n",
       "2  The 2019-nCoV epidemic has spread across China...\n",
       "3  Metagenomic sequencing, which allows us to dir...\n",
       "4  Infectious bronchitis (IB), which is caused by..."
      ]
     },
     "execution_count": 38,
     "metadata": {},
     "output_type": "execute_result"
    }
   ],
   "source": [
    "clean_df = pd.DataFrame(papers)\n",
    "clean_df.head()"
   ]
  },
  {
   "cell_type": "code",
   "execution_count": 11,
   "metadata": {},
   "outputs": [],
   "source": [
    "stopwords=set(nltk.corpus.stopwords.words('english'))"
   ]
  },
  {
   "cell_type": "code",
   "execution_count": 31,
   "metadata": {},
   "outputs": [
    {
     "data": {
      "text/plain": [
       "<10x4223 sparse matrix of type '<class 'numpy.float64'>'\n",
       "\twith 7407 stored elements in Compressed Sparse Row format>"
      ]
     },
     "execution_count": 31,
     "metadata": {},
     "output_type": "execute_result"
    }
   ],
   "source": [
    "vectorizer = sklearn.feature_extraction.text.TfidfVectorizer(stop_words=stopwords)\n",
    "vectorizer.fit_transform(clean_df[0])"
   ]
  },
  {
   "cell_type": "code",
   "execution_count": 37,
   "metadata": {},
   "outputs": [],
   "source": [
    "# vectorizer.vocabulary_\n",
    "word_frequency = sorted(vectorizer.vocabulary_.items(), key=lambda x: x[1], reverse=True)"
   ]
  },
  {
   "cell_type": "code",
   "execution_count": 39,
   "metadata": {},
   "outputs": [
    {
     "data": {
      "text/plain": [
       "[('μg', 4222),\n",
       " ('δpk', 4221),\n",
       " ('å2', 4220),\n",
       " ('ºc', 4219),\n",
       " ('µm', 4218),\n",
       " ('µl', 4217),\n",
       " ('zoster', 4216),\n",
       " ('zinc', 4215),\n",
       " ('zhengzhou', 4214),\n",
       " ('zhejiang', 4213)]"
      ]
     },
     "execution_count": 39,
     "metadata": {},
     "output_type": "execute_result"
    }
   ],
   "source": [
    "word_frequency[:10]"
   ]
  },
  {
   "cell_type": "code",
   "execution_count": null,
   "metadata": {},
   "outputs": [],
   "source": [
    "#TODO: begin trying to answer questions specified in timeline.\n",
    "#TODO: try connecting to CORD-19 Azure database."
   ]
  }
 ],
 "metadata": {
  "interpreter": {
   "hash": "483cab17ea47bf3dc62612f79753baa304c994dab11b0cb1ba24b5d79c042b44"
  },
  "kernelspec": {
   "display_name": "Python 3.8.5 64-bit ('base': conda)",
   "language": "python",
   "name": "python3"
  },
  "language_info": {
   "codemirror_mode": {
    "name": "ipython",
    "version": 3
   },
   "file_extension": ".py",
   "mimetype": "text/x-python",
   "name": "python",
   "nbconvert_exporter": "python",
   "pygments_lexer": "ipython3",
   "version": "3.8.5"
  },
  "orig_nbformat": 4
 },
 "nbformat": 4,
 "nbformat_minor": 2
}
