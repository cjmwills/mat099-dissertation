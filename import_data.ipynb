{
 "cells": [
  {
   "cell_type": "markdown",
   "metadata": {},
   "source": [
    "# Introduction\n",
    "\n",
    "This notebook imports the data needed for the analysis. Three data imports are made for three different points in time. The following fields are required: paper ID, abstract, body text.\n",
    "\n",
    "A sample of 5,000 papers will be used for each point in time (LDA TBC). This will consist of 2,500 papers that were in the last subset and 2,500 new papers. This is to recreate what data would've been available were this analysis to be used at the time."
   ]
  },
  {
   "cell_type": "code",
   "execution_count": 2,
   "metadata": {},
   "outputs": [],
   "source": [
    "import pandas as pd\n",
    "from tqdm import tqdm\n",
    "tqdm.pandas()\n",
    "\n",
    "import numpy as np\n",
    "from langdetect import detect\n",
    "import re\n",
    "import joblib"
   ]
  },
  {
   "cell_type": "markdown",
   "metadata": {},
   "source": [
    "# April 2020\n",
    "\n",
    "This data is currently imported using the cleaned CSV created by Kaggle submission: https://www.kaggle.com/xhlulu/cord-19-eda-parse-json-and-generate-clean-csv/data?select=clean_pmc.csv"
   ]
  },
  {
   "cell_type": "code",
   "execution_count": 2,
   "metadata": {},
   "outputs": [],
   "source": [
    "if False:\n",
    "    data_april = pd.read_csv(\"data/2020-04/clean_pmc.csv\", nrows=5000, usecols=[0])\n",
    "    joblib.dump(data_april, \"outputs/april_ids_5k.pkl\")\n",
    "    data_april.shape"
   ]
  },
  {
   "cell_type": "code",
   "execution_count": 11,
   "metadata": {},
   "outputs": [
    {
     "data": {
      "text/plain": [
       "['outputs/ids_april_5000.pkl']"
      ]
     },
     "execution_count": 11,
     "metadata": {},
     "output_type": "execute_result"
    }
   ],
   "source": [
    "joblib.dump(data_april['paper_id'], \"outputs/ids_april_5000.pkl\")"
   ]
  },
  {
   "cell_type": "code",
   "execution_count": 12,
   "metadata": {},
   "outputs": [],
   "source": [
    "data_april = joblib.load(\"outputs/ids_april_5000.pkl\")\n",
    "data_june = joblib.load(\"outputs/ids_june_5000.pkl\")"
   ]
  },
  {
   "cell_type": "code",
   "execution_count": 13,
   "metadata": {},
   "outputs": [
    {
     "data": {
      "text/plain": [
       "0    14572a7a9b3e92b960d92d9755979eb94c448bb5\n",
       "1    bb790e8366da63c4f5e2d64fa7bbd5673b93063c\n",
       "2    24f204ce5a1a4d752dc9ea7525082d225caed8b3\n",
       "3    f5bc62a289ef384131f592ec3a8852545304513a\n",
       "4    ab78a42c688ac199a2d5669e42ee4c39ff0df2b8\n",
       "Name: paper_id, dtype: object"
      ]
     },
     "execution_count": 13,
     "metadata": {},
     "output_type": "execute_result"
    }
   ],
   "source": [
    "data_april.head()"
   ]
  },
  {
   "cell_type": "code",
   "execution_count": 14,
   "metadata": {},
   "outputs": [
    {
     "data": {
      "text/plain": [
       "0    f5bc62a289ef384131f592ec3a8852545304513a\n",
       "1    31105078a2953217223699d09c6a80d0f5edfdf6\n",
       "2    e16072734dff5a66dcdd1c147957daf02444f84d\n",
       "3    dff25248c855cb84f8a9c5e07c1a220675c023d7\n",
       "4    6a4a0de0df03bfd7860d0732ea9d42daeac06b10\n",
       "Name: paper_id, dtype: object"
      ]
     },
     "execution_count": 14,
     "metadata": {},
     "output_type": "execute_result"
    }
   ],
   "source": [
    "data_june.head()"
   ]
  },
  {
   "cell_type": "code",
   "execution_count": 24,
   "metadata": {},
   "outputs": [
    {
     "data": {
      "text/plain": [
       "5000"
      ]
     },
     "execution_count": 24,
     "metadata": {},
     "output_type": "execute_result"
    }
   ],
   "source": [
    "data_april['paper_id'].nunique()"
   ]
  },
  {
   "cell_type": "code",
   "execution_count": 6,
   "metadata": {},
   "outputs": [
    {
     "ename": "NameError",
     "evalue": "name 'data' is not defined",
     "output_type": "error",
     "traceback": [
      "\u001b[1;31m---------------------------------------------------------------------------\u001b[0m",
      "\u001b[1;31mNameError\u001b[0m                                 Traceback (most recent call last)",
      "\u001b[1;32mc:\\Users\\charl\\mat099-dissertation\\import_data.ipynb Cell 8\u001b[0m in \u001b[0;36m<cell line: 3>\u001b[1;34m()\u001b[0m\n\u001b[0;32m      <a href='vscode-notebook-cell:/c%3A/Users/charl/mat099-dissertation/import_data.ipynb#X10sZmlsZQ%3D%3D?line=0'>1</a>\u001b[0m \u001b[39m# only keep rows that contain an alpha character (a letter) as\u001b[39;00m\n\u001b[0;32m      <a href='vscode-notebook-cell:/c%3A/Users/charl/mat099-dissertation/import_data.ipynb#X10sZmlsZQ%3D%3D?line=1'>2</a>\u001b[0m \u001b[39m# detect() throws an error if this isn't the case\u001b[39;00m\n\u001b[1;32m----> <a href='vscode-notebook-cell:/c%3A/Users/charl/mat099-dissertation/import_data.ipynb#X10sZmlsZQ%3D%3D?line=2'>3</a>\u001b[0m data_cleaned \u001b[39m=\u001b[39m data[data[\u001b[39m'\u001b[39m\u001b[39mtext\u001b[39m\u001b[39m'\u001b[39m]\u001b[39m.\u001b[39mapply(\u001b[39mlambda\u001b[39;00m x: \u001b[39mbool\u001b[39m(re\u001b[39m.\u001b[39mmatch(\u001b[39m'\u001b[39m\u001b[39m.*[a-zA-Z]+\u001b[39m\u001b[39m'\u001b[39m, x)))]\n",
      "\u001b[1;31mNameError\u001b[0m: name 'data' is not defined"
     ]
    }
   ],
   "source": [
    "# only keep rows that contain an alpha character (a letter) as\n",
    "# detect() throws an error if this isn't the case\n",
    "data_cleaned = data[data['text'].apply(lambda x: bool(re.match('.*[a-zA-Z]+', x)))]"
   ]
  },
  {
   "cell_type": "code",
   "execution_count": null,
   "metadata": {},
   "outputs": [],
   "source": [
    "# create pd.Series that predicts the language of the text. Because this takes ~30 mins to run,\n",
    "# export the result to CSV which can then be imported. The two lines of code that create the CSV\n",
    "# have been commented out.\n",
    "\n",
    "# lang = data_cleaned['text'].progress_apply(detect)\n",
    "# lang.to_csv(\"Data/predicted_lang.csv\")\n",
    "lang = pd.read_csv(\"Data/predicted_lang.csv\", index_col=0).squeeze()"
   ]
  },
  {
   "cell_type": "code",
   "execution_count": null,
   "metadata": {},
   "outputs": [
    {
     "name": "stdout",
     "output_type": "stream",
     "text": [
      "Rows before removing non-english: 17526\n",
      "Rows after removing non-english: 17045\n"
     ]
    }
   ],
   "source": [
    "# filter only english text\n",
    "data_eng = data_cleaned[lang == 'en']\n",
    "print('Rows before removing non-english:', data_cleaned.shape[0])\n",
    "print('Rows after removing non-english:', data_eng.shape[0])"
   ]
  },
  {
   "cell_type": "markdown",
   "metadata": {},
   "source": [
    "# June 2020"
   ]
  },
  {
   "cell_type": "code",
   "execution_count": 4,
   "metadata": {},
   "outputs": [],
   "source": [
    "import glob"
   ]
  },
  {
   "cell_type": "code",
   "execution_count": 5,
   "metadata": {},
   "outputs": [
    {
     "data": {
      "text/plain": [
       "28523"
      ]
     },
     "execution_count": 5,
     "metadata": {},
     "output_type": "execute_result"
    }
   ],
   "source": [
    "all_papers_june = glob.glob(\"data/2020-06/pdf_json/*\")\n",
    "all_papers_june_id = [re.findall(\"([a-z0-9]+)\\.json\", paper)[0] for paper in all_papers_june]\n",
    "len(all_papers_june_id)"
   ]
  },
  {
   "cell_type": "markdown",
   "metadata": {},
   "source": [
    "Check there aren't any duplicate ID's in the June papers"
   ]
  },
  {
   "cell_type": "code",
   "execution_count": 6,
   "metadata": {},
   "outputs": [
    {
     "data": {
      "text/plain": [
       "28523"
      ]
     },
     "execution_count": 6,
     "metadata": {},
     "output_type": "execute_result"
    }
   ],
   "source": [
    "len(set(all_papers_june_id))"
   ]
  },
  {
   "cell_type": "code",
   "execution_count": 7,
   "metadata": {},
   "outputs": [
    {
     "data": {
      "text/plain": [
       "1228"
      ]
     },
     "execution_count": 7,
     "metadata": {},
     "output_type": "execute_result"
    }
   ],
   "source": [
    "data_april['paper_id'].isin(all_papers_june_id).sum()"
   ]
  },
  {
   "cell_type": "markdown",
   "metadata": {},
   "source": [
    "There are 1,228 papers in the June data that was also in the April data. We'll use all of these in the subset."
   ]
  },
  {
   "cell_type": "code",
   "execution_count": 8,
   "metadata": {},
   "outputs": [],
   "source": [
    "previous_papers = data_april[data_april['paper_id'].isin(all_papers_june_id)]"
   ]
  },
  {
   "cell_type": "markdown",
   "metadata": {},
   "source": [
    "Then we need to select 3,772 new papers from the June data to get a subset of 5,000"
   ]
  },
  {
   "cell_type": "code",
   "execution_count": 9,
   "metadata": {},
   "outputs": [
    {
     "data": {
      "text/plain": [
       "(3772,)"
      ]
     },
     "execution_count": 9,
     "metadata": {},
     "output_type": "execute_result"
    }
   ],
   "source": [
    "new_papers = [paper for paper in all_papers_june_id if paper not in data_april['paper_id'].values]\n",
    "# convert to series to enable use of sample method\n",
    "new_papers = pd.Series(new_papers, name='paper_id')\n",
    "new_papers_sample = new_papers.sample(n=3772, random_state=42)\n",
    "new_papers_sample.shape"
   ]
  },
  {
   "cell_type": "markdown",
   "metadata": {},
   "source": [
    "Sanity check that none of the new June papers were in the old April papers"
   ]
  },
  {
   "cell_type": "code",
   "execution_count": 26,
   "metadata": {},
   "outputs": [
    {
     "data": {
      "text/plain": [
       "True"
      ]
     },
     "execution_count": 26,
     "metadata": {},
     "output_type": "execute_result"
    }
   ],
   "source": [
    "any(~new_papers_sample.isin(previous_papers))"
   ]
  },
  {
   "cell_type": "code",
   "execution_count": 11,
   "metadata": {},
   "outputs": [
    {
     "data": {
      "text/plain": [
       "0       f5bc62a289ef384131f592ec3a8852545304513a\n",
       "1       31105078a2953217223699d09c6a80d0f5edfdf6\n",
       "2       e16072734dff5a66dcdd1c147957daf02444f84d\n",
       "3       dff25248c855cb84f8a9c5e07c1a220675c023d7\n",
       "4       6a4a0de0df03bfd7860d0732ea9d42daeac06b10\n",
       "                          ...                   \n",
       "4995    0036b28fddf7e93da0970303672934ea2f9944e7\n",
       "4996    b09362a1f23af2b6603e7b92b58003b7f9719840\n",
       "4997    e12d7aa58d54b0ff35deeec1ebba036e91c81468\n",
       "4998    e7a4eae5bc97a5dc97189e3faa40ef9a91bb3207\n",
       "4999    1ccd924dbf169e600355923da3de6e6a8ac217c1\n",
       "Name: paper_id, Length: 5000, dtype: object"
      ]
     },
     "execution_count": 11,
     "metadata": {},
     "output_type": "execute_result"
    }
   ],
   "source": [
    "june_papers_to_use = pd.concat([previous_papers['paper_id'], new_papers_sample], ignore_index=True)\n",
    "june_papers_to_use"
   ]
  },
  {
   "cell_type": "markdown",
   "metadata": {},
   "source": [
    "Confirm all the june papers to use are in the June data"
   ]
  },
  {
   "cell_type": "code",
   "execution_count": 27,
   "metadata": {},
   "outputs": [
    {
     "data": {
      "text/plain": [
       "True"
      ]
     },
     "execution_count": 27,
     "metadata": {},
     "output_type": "execute_result"
    }
   ],
   "source": [
    "all(True for paper in june_papers_to_use.values if paper in all_papers_june_id)"
   ]
  },
  {
   "cell_type": "markdown",
   "metadata": {},
   "source": [
    "Import abstract and text body of each paper into pandas data frame."
   ]
  },
  {
   "cell_type": "code",
   "execution_count": 13,
   "metadata": {},
   "outputs": [],
   "source": [
    "import json"
   ]
  },
  {
   "cell_type": "code",
   "execution_count": 14,
   "metadata": {},
   "outputs": [],
   "source": [
    "data_json=[]\n",
    "for paper in june_papers_to_use:\n",
    "    paper_name = 'data/2020-06/pdf_json/' + paper + '.json'\n",
    "    # print(paper_name)\n",
    "    try:\n",
    "        json.load(open(paper_name, 'rb'))\n",
    "    except:\n",
    "        pass\n",
    "        # print(\"Errors raised when parsing paper: \" + paper_name)\n",
    "    else:\n",
    "        paper_json = json.load(open(paper_name, 'rb'))\n",
    "    data_json.append(paper_json)"
   ]
  },
  {
   "cell_type": "code",
   "execution_count": 15,
   "metadata": {},
   "outputs": [],
   "source": [
    "abstracts=[]\n",
    "body_texts=[]\n",
    "for paper in data_json:\n",
    "    abstract = paper['abstract']\n",
    "    body_text = paper['body_text']\n",
    "    # check if abstract is empty list\n",
    "    if not abstract:\n",
    "        abstracts.append(np.nan)\n",
    "    else:\n",
    "        abstracts.append(abstract[0]['text'])\n",
    "    \n",
    "    no_of_paragraphs = len(body_text)\n",
    "    paragraphs=''\n",
    "    for i in range(no_of_paragraphs):\n",
    "        paragraph = body_text[i]['text']\n",
    "        paragraphs += paragraph + '\\n\\n'\n",
    "    body_texts.append(paragraphs)"
   ]
  },
  {
   "cell_type": "code",
   "execution_count": 39,
   "metadata": {},
   "outputs": [
    {
     "data": {
      "text/plain": [
       "True"
      ]
     },
     "execution_count": 39,
     "metadata": {},
     "output_type": "execute_result"
    }
   ],
   "source": [
    "len(abstracts) == len(body_texts) == 5000"
   ]
  },
  {
   "cell_type": "code",
   "execution_count": 17,
   "metadata": {},
   "outputs": [
    {
     "data": {
      "text/html": [
       "<div>\n",
       "<style scoped>\n",
       "    .dataframe tbody tr th:only-of-type {\n",
       "        vertical-align: middle;\n",
       "    }\n",
       "\n",
       "    .dataframe tbody tr th {\n",
       "        vertical-align: top;\n",
       "    }\n",
       "\n",
       "    .dataframe thead th {\n",
       "        text-align: right;\n",
       "    }\n",
       "</style>\n",
       "<table border=\"1\" class=\"dataframe\">\n",
       "  <thead>\n",
       "    <tr style=\"text-align: right;\">\n",
       "      <th></th>\n",
       "      <th>paper_id</th>\n",
       "      <th>abstract</th>\n",
       "      <th>text</th>\n",
       "    </tr>\n",
       "  </thead>\n",
       "  <tbody>\n",
       "    <tr>\n",
       "      <th>0</th>\n",
       "      <td>f5bc62a289ef384131f592ec3a8852545304513a</td>\n",
       "      <td>NaN</td>\n",
       "      <td>Worldwide, the leading causes of death in neon...</td>\n",
       "    </tr>\n",
       "    <tr>\n",
       "      <th>1</th>\n",
       "      <td>31105078a2953217223699d09c6a80d0f5edfdf6</td>\n",
       "      <td>NaN</td>\n",
       "      <td>Worldwide, the leading causes of death in neon...</td>\n",
       "    </tr>\n",
       "    <tr>\n",
       "      <th>2</th>\n",
       "      <td>e16072734dff5a66dcdd1c147957daf02444f84d</td>\n",
       "      <td>NaN</td>\n",
       "      <td>Worldwide, the leading causes of death in neon...</td>\n",
       "    </tr>\n",
       "    <tr>\n",
       "      <th>3</th>\n",
       "      <td>dff25248c855cb84f8a9c5e07c1a220675c023d7</td>\n",
       "      <td>NaN</td>\n",
       "      <td>Worldwide, the leading causes of death in neon...</td>\n",
       "    </tr>\n",
       "    <tr>\n",
       "      <th>4</th>\n",
       "      <td>6a4a0de0df03bfd7860d0732ea9d42daeac06b10</td>\n",
       "      <td>An outbreak of aseptic meningitis occurred in ...</td>\n",
       "      <td>E nteroviruses circulate worldwide and are the...</td>\n",
       "    </tr>\n",
       "    <tr>\n",
       "      <th>...</th>\n",
       "      <td>...</td>\n",
       "      <td>...</td>\n",
       "      <td>...</td>\n",
       "    </tr>\n",
       "    <tr>\n",
       "      <th>4995</th>\n",
       "      <td>0036b28fddf7e93da0970303672934ea2f9944e7</td>\n",
       "      <td>and Blautia (P = 0.008) significantly decrease...</td>\n",
       "      <td>human type 1 DM. The aim of this study was to ...</td>\n",
       "    </tr>\n",
       "    <tr>\n",
       "      <th>4996</th>\n",
       "      <td>b09362a1f23af2b6603e7b92b58003b7f9719840</td>\n",
       "      <td>Vertebrate interferon-induced transmembrane (I...</td>\n",
       "      <td>First discovered by cDNA library screening in ...</td>\n",
       "    </tr>\n",
       "    <tr>\n",
       "      <th>4997</th>\n",
       "      <td>e12d7aa58d54b0ff35deeec1ebba036e91c81468</td>\n",
       "      <td>This paper presents an applied study of schedu...</td>\n",
       "      <td>The bus transit scheduling problem is of great...</td>\n",
       "    </tr>\n",
       "    <tr>\n",
       "      <th>4998</th>\n",
       "      <td>e7a4eae5bc97a5dc97189e3faa40ef9a91bb3207</td>\n",
       "      <td>Astragali radix (AR) is one of the most widely...</td>\n",
       "      <td>Astragali radix (AR), also well-known as Huang...</td>\n",
       "    </tr>\n",
       "    <tr>\n",
       "      <th>4999</th>\n",
       "      <td>1ccd924dbf169e600355923da3de6e6a8ac217c1</td>\n",
       "      <td>An integrated quantitative approach to data as...</td>\n",
       "      <td>Surveillance systems collect, analyze and repo...</td>\n",
       "    </tr>\n",
       "  </tbody>\n",
       "</table>\n",
       "<p>5000 rows × 3 columns</p>\n",
       "</div>"
      ],
      "text/plain": [
       "                                      paper_id  \\\n",
       "0     f5bc62a289ef384131f592ec3a8852545304513a   \n",
       "1     31105078a2953217223699d09c6a80d0f5edfdf6   \n",
       "2     e16072734dff5a66dcdd1c147957daf02444f84d   \n",
       "3     dff25248c855cb84f8a9c5e07c1a220675c023d7   \n",
       "4     6a4a0de0df03bfd7860d0732ea9d42daeac06b10   \n",
       "...                                        ...   \n",
       "4995  0036b28fddf7e93da0970303672934ea2f9944e7   \n",
       "4996  b09362a1f23af2b6603e7b92b58003b7f9719840   \n",
       "4997  e12d7aa58d54b0ff35deeec1ebba036e91c81468   \n",
       "4998  e7a4eae5bc97a5dc97189e3faa40ef9a91bb3207   \n",
       "4999  1ccd924dbf169e600355923da3de6e6a8ac217c1   \n",
       "\n",
       "                                               abstract  \\\n",
       "0                                                   NaN   \n",
       "1                                                   NaN   \n",
       "2                                                   NaN   \n",
       "3                                                   NaN   \n",
       "4     An outbreak of aseptic meningitis occurred in ...   \n",
       "...                                                 ...   \n",
       "4995  and Blautia (P = 0.008) significantly decrease...   \n",
       "4996  Vertebrate interferon-induced transmembrane (I...   \n",
       "4997  This paper presents an applied study of schedu...   \n",
       "4998  Astragali radix (AR) is one of the most widely...   \n",
       "4999  An integrated quantitative approach to data as...   \n",
       "\n",
       "                                                   text  \n",
       "0     Worldwide, the leading causes of death in neon...  \n",
       "1     Worldwide, the leading causes of death in neon...  \n",
       "2     Worldwide, the leading causes of death in neon...  \n",
       "3     Worldwide, the leading causes of death in neon...  \n",
       "4     E nteroviruses circulate worldwide and are the...  \n",
       "...                                                 ...  \n",
       "4995  human type 1 DM. The aim of this study was to ...  \n",
       "4996  First discovered by cDNA library screening in ...  \n",
       "4997  The bus transit scheduling problem is of great...  \n",
       "4998  Astragali radix (AR), also well-known as Huang...  \n",
       "4999  Surveillance systems collect, analyze and repo...  \n",
       "\n",
       "[5000 rows x 3 columns]"
      ]
     },
     "execution_count": 17,
     "metadata": {},
     "output_type": "execute_result"
    }
   ],
   "source": [
    "data_dict = {'paper_id': june_papers_to_use.values, 'abstract': abstracts, 'text': body_texts}\n",
    "data_june = pd.DataFrame(data_dict)\n",
    "data_june"
   ]
  },
  {
   "cell_type": "code",
   "execution_count": 19,
   "metadata": {},
   "outputs": [
    {
     "data": {
      "text/plain": [
       "['outputs/data_june_5k.pkl']"
      ]
     },
     "execution_count": 19,
     "metadata": {},
     "output_type": "execute_result"
    }
   ],
   "source": [
    "joblib.dump(data_june, 'outputs/data_june_5k.pkl')"
   ]
  },
  {
   "cell_type": "markdown",
   "metadata": {},
   "source": [
    "**TODO:**\n",
    "- Don't include papers with missing abstracts\n",
    "- Repeat process for August data"
   ]
  }
 ],
 "metadata": {
  "kernelspec": {
   "display_name": "Python 3.9.12 ('mat099')",
   "language": "python",
   "name": "python3"
  },
  "language_info": {
   "codemirror_mode": {
    "name": "ipython",
    "version": 3
   },
   "file_extension": ".py",
   "mimetype": "text/x-python",
   "name": "python",
   "nbconvert_exporter": "python",
   "pygments_lexer": "ipython3",
   "version": "3.9.12"
  },
  "orig_nbformat": 4,
  "vscode": {
   "interpreter": {
    "hash": "bc1d07306176b222eaafa12c90663e0030376ae09cf08833d8be3832e6c88b0d"
   }
  }
 },
 "nbformat": 4,
 "nbformat_minor": 2
}
