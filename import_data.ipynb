{
 "cells": [
  {
   "cell_type": "code",
   "execution_count": null,
   "metadata": {},
   "outputs": [
    {
     "name": "stderr",
     "output_type": "stream",
     "text": [
      "C:\\Users\\charl\\anaconda3\\lib\\site-packages\\tqdm\\std.py:697: FutureWarning: The Panel class is removed from pandas. Accessing it from the top-level namespace will also be removed in the next version\n",
      "  from pandas import Panel\n"
     ]
    }
   ],
   "source": [
    "import pandas as pd\n",
    "import numpy as np\n",
    "import sklearn\n",
    "from sklearn.feature_extraction.text import TfidfVectorizer\n",
    "from sklearn.decomposition import LatentDirichletAllocation\n",
    "import nltk\n",
    "from langdetect import detect\n",
    "import re\n",
    "from tqdm import tqdm\n",
    "tqdm.pandas()"
   ]
  },
  {
   "cell_type": "code",
   "execution_count": null,
   "metadata": {},
   "outputs": [],
   "source": [
    "# data taken directly from kaggle so I can proceed with analysis. Will come back and parse manually.\n",
    "# https://www.kaggle.com/xhlulu/cord-19-eda-parse-json-and-generate-clean-csv/data?select=clean_pmc.csv \n",
    "data = pd.read_csv(\"Data/clean_pmc.csv\")"
   ]
  },
  {
   "cell_type": "code",
   "execution_count": null,
   "metadata": {},
   "outputs": [
    {
     "data": {
      "text/plain": [
       "(26505, 9)"
      ]
     },
     "metadata": {},
     "output_type": "display_data"
    }
   ],
   "source": [
    "data.shape"
   ]
  },
  {
   "cell_type": "code",
   "execution_count": null,
   "metadata": {},
   "outputs": [
    {
     "data": {
      "text/html": [
       "<div>\n",
       "<style scoped>\n",
       "    .dataframe tbody tr th:only-of-type {\n",
       "        vertical-align: middle;\n",
       "    }\n",
       "\n",
       "    .dataframe tbody tr th {\n",
       "        vertical-align: top;\n",
       "    }\n",
       "\n",
       "    .dataframe thead th {\n",
       "        text-align: right;\n",
       "    }\n",
       "</style>\n",
       "<table border=\"1\" class=\"dataframe\">\n",
       "  <thead>\n",
       "    <tr style=\"text-align: right;\">\n",
       "      <th></th>\n",
       "      <th>paper_id</th>\n",
       "      <th>title</th>\n",
       "      <th>authors</th>\n",
       "      <th>affiliations</th>\n",
       "      <th>abstract</th>\n",
       "      <th>text</th>\n",
       "      <th>bibliography</th>\n",
       "      <th>raw_authors</th>\n",
       "      <th>raw_bibliography</th>\n",
       "    </tr>\n",
       "  </thead>\n",
       "  <tbody>\n",
       "    <tr>\n",
       "      <th>0</th>\n",
       "      <td>14572a7a9b3e92b960d92d9755979eb94c448bb5</td>\n",
       "      <td>Immune Parameters of Dry Cows Fed Mannan Oligo...</td>\n",
       "      <td>S T Franklin, M C Newman, K E Newman, K I Meek</td>\n",
       "      <td>S T Franklin (University of Kentucky, 40546-02...</td>\n",
       "      <td>Abstract\\n\\nThe objective of this study was to...</td>\n",
       "      <td>INTRODUCTION\\n\\nThe periparturient period is a...</td>\n",
       "      <td>Immune response of pregnant heifers and cows t...</td>\n",
       "      <td>[{'first': 'S', 'middle': ['T'], 'last': 'Fran...</td>\n",
       "      <td>{'BIBREF0': {'ref_id': 'b0', 'title': 'Immune ...</td>\n",
       "    </tr>\n",
       "    <tr>\n",
       "      <th>1</th>\n",
       "      <td>bb790e8366da63c4f5e2d64fa7bbd5673b93063c</td>\n",
       "      <td>Discontinuous Transcription or RNA Processing ...</td>\n",
       "      <td>Beate Schwer, Paolo Vista, Jan C Vos, Hendrik ...</td>\n",
       "      <td>Beate Schwer, Paolo Vista, Jan C Vos, Hendrik ...</td>\n",
       "      <td>NaN</td>\n",
       "      <td>Discontinuous\\n\\nTranscription or RNA Processi...</td>\n",
       "      <td>Poly (riboadenylic acid) preferentially inhibi...</td>\n",
       "      <td>[{'first': 'Beate', 'middle': [], 'last': 'Sch...</td>\n",
       "      <td>{'BIBREF0': {'ref_id': 'b0', 'title': 'Poly (r...</td>\n",
       "    </tr>\n",
       "    <tr>\n",
       "      <th>2</th>\n",
       "      <td>24f204ce5a1a4d752dc9ea7525082d225caed8b3</td>\n",
       "      <td>NaN</td>\n",
       "      <td>NaN</td>\n",
       "      <td>NaN</td>\n",
       "      <td>NaN</td>\n",
       "      <td>Letter to the Editor\\n\\nThe non-contact handhe...</td>\n",
       "      <td>Novel coronavirus is putting the whole world o...</td>\n",
       "      <td>[]</td>\n",
       "      <td>{'BIBREF0': {'ref_id': 'b0', 'title': 'Novel c...</td>\n",
       "    </tr>\n",
       "    <tr>\n",
       "      <th>3</th>\n",
       "      <td>f5bc62a289ef384131f592ec3a8852545304513a</td>\n",
       "      <td>Pediatric Natural Deaths 30</td>\n",
       "      <td>Elizabeth C Burton, Nicole A Singer</td>\n",
       "      <td>Elizabeth C Burton (Johns Hopkins University S...</td>\n",
       "      <td>NaN</td>\n",
       "      <td>Introduction\\n\\nWorldwide, the leading causes ...</td>\n",
       "      <td>In athletes who experienced sudden death or in...</td>\n",
       "      <td>[{'first': 'Elizabeth', 'middle': ['C'], 'last...</td>\n",
       "      <td>{'BIBREF0': {'ref_id': 'b0', 'title': 'In athl...</td>\n",
       "    </tr>\n",
       "    <tr>\n",
       "      <th>4</th>\n",
       "      <td>ab78a42c688ac199a2d5669e42ee4c39ff0df2b8</td>\n",
       "      <td>A real-time convective PCR machine in a capill...</td>\n",
       "      <td>Yi-Fan Hsieh, Da-Sheng Lee, Ping-Hei Chen, Sha...</td>\n",
       "      <td>Yi-Fan Hsieh (National Taiwan University, 106,...</td>\n",
       "      <td>Abstract\\n\\nThis research reports the design, ...</td>\n",
       "      <td>Introduction\\n\\nMullis et al. developed the po...</td>\n",
       "      <td>The Polymerase Chain Reaction, K B Mullis, F F...</td>\n",
       "      <td>[{'first': 'Yi-Fan', 'middle': [], 'last': 'Hs...</td>\n",
       "      <td>{'BIBREF0': {'ref_id': 'b0', 'title': 'The Pol...</td>\n",
       "    </tr>\n",
       "  </tbody>\n",
       "</table>\n",
       "</div>"
      ],
      "text/plain": [
       "                                   paper_id  \\\n",
       "0  14572a7a9b3e92b960d92d9755979eb94c448bb5   \n",
       "1  bb790e8366da63c4f5e2d64fa7bbd5673b93063c   \n",
       "2  24f204ce5a1a4d752dc9ea7525082d225caed8b3   \n",
       "3  f5bc62a289ef384131f592ec3a8852545304513a   \n",
       "4  ab78a42c688ac199a2d5669e42ee4c39ff0df2b8   \n",
       "\n",
       "                                               title  \\\n",
       "0  Immune Parameters of Dry Cows Fed Mannan Oligo...   \n",
       "1  Discontinuous Transcription or RNA Processing ...   \n",
       "2                                                NaN   \n",
       "3                        Pediatric Natural Deaths 30   \n",
       "4  A real-time convective PCR machine in a capill...   \n",
       "\n",
       "                                             authors  \\\n",
       "0     S T Franklin, M C Newman, K E Newman, K I Meek   \n",
       "1  Beate Schwer, Paolo Vista, Jan C Vos, Hendrik ...   \n",
       "2                                                NaN   \n",
       "3                Elizabeth C Burton, Nicole A Singer   \n",
       "4  Yi-Fan Hsieh, Da-Sheng Lee, Ping-Hei Chen, Sha...   \n",
       "\n",
       "                                        affiliations  \\\n",
       "0  S T Franklin (University of Kentucky, 40546-02...   \n",
       "1  Beate Schwer, Paolo Vista, Jan C Vos, Hendrik ...   \n",
       "2                                                NaN   \n",
       "3  Elizabeth C Burton (Johns Hopkins University S...   \n",
       "4  Yi-Fan Hsieh (National Taiwan University, 106,...   \n",
       "\n",
       "                                            abstract  \\\n",
       "0  Abstract\\n\\nThe objective of this study was to...   \n",
       "1                                                NaN   \n",
       "2                                                NaN   \n",
       "3                                                NaN   \n",
       "4  Abstract\\n\\nThis research reports the design, ...   \n",
       "\n",
       "                                                text  \\\n",
       "0  INTRODUCTION\\n\\nThe periparturient period is a...   \n",
       "1  Discontinuous\\n\\nTranscription or RNA Processi...   \n",
       "2  Letter to the Editor\\n\\nThe non-contact handhe...   \n",
       "3  Introduction\\n\\nWorldwide, the leading causes ...   \n",
       "4  Introduction\\n\\nMullis et al. developed the po...   \n",
       "\n",
       "                                        bibliography  \\\n",
       "0  Immune response of pregnant heifers and cows t...   \n",
       "1  Poly (riboadenylic acid) preferentially inhibi...   \n",
       "2  Novel coronavirus is putting the whole world o...   \n",
       "3  In athletes who experienced sudden death or in...   \n",
       "4  The Polymerase Chain Reaction, K B Mullis, F F...   \n",
       "\n",
       "                                         raw_authors  \\\n",
       "0  [{'first': 'S', 'middle': ['T'], 'last': 'Fran...   \n",
       "1  [{'first': 'Beate', 'middle': [], 'last': 'Sch...   \n",
       "2                                                 []   \n",
       "3  [{'first': 'Elizabeth', 'middle': ['C'], 'last...   \n",
       "4  [{'first': 'Yi-Fan', 'middle': [], 'last': 'Hs...   \n",
       "\n",
       "                                    raw_bibliography  \n",
       "0  {'BIBREF0': {'ref_id': 'b0', 'title': 'Immune ...  \n",
       "1  {'BIBREF0': {'ref_id': 'b0', 'title': 'Poly (r...  \n",
       "2  {'BIBREF0': {'ref_id': 'b0', 'title': 'Novel c...  \n",
       "3  {'BIBREF0': {'ref_id': 'b0', 'title': 'In athl...  \n",
       "4  {'BIBREF0': {'ref_id': 'b0', 'title': 'The Pol...  "
      ]
     },
     "metadata": {},
     "output_type": "display_data"
    }
   ],
   "source": [
    "data.head()"
   ]
  },
  {
   "cell_type": "code",
   "execution_count": null,
   "metadata": {},
   "outputs": [],
   "source": [
    "# only keep rows that contain an alpha character (a letter) as\n",
    "# detect() throws an error if this isn't the case\n",
    "data_cleaned = data[data['text'].apply(lambda x: bool(re.match('.*[a-zA-Z]+', x)))]"
   ]
  },
  {
   "cell_type": "code",
   "execution_count": null,
   "metadata": {},
   "outputs": [],
   "source": [
    "# create pd.Series that predicts the language of the text. Because this takes ~30 mins to run,\n",
    "# export the result to CSV which can then be imported. The two lines of code that create the CSV\n",
    "# have been commented out.\n",
    "\n",
    "# lang = data_cleaned['text'].progress_apply(detect)\n",
    "# lang.to_csv(\"Data/predicted_lang.csv\")\n",
    "lang = pd.read_csv(\"Data/predicted_lang.csv\", index_col=0).squeeze()"
   ]
  },
  {
   "cell_type": "code",
   "execution_count": null,
   "metadata": {},
   "outputs": [
    {
     "name": "stdout",
     "output_type": "stream",
     "text": [
      "Rows before removing non-english: 17526\n",
      "Rows after removing non-english: 17045\n"
     ]
    }
   ],
   "source": [
    "# filter only english text\n",
    "data_eng = data_cleaned[lang == 'en']\n",
    "print('Rows before removing non-english:', data_cleaned.shape[0])\n",
    "print('Rows after removing non-english:', data_eng.shape[0])"
   ]
  }
 ],
 "metadata": {
  "kernelspec": {
   "display_name": "Python 3.9.12 ('mat099')",
   "language": "python",
   "name": "python3"
  },
  "language_info": {
   "name": "python",
   "version": "3.9.12"
  },
  "orig_nbformat": 4,
  "vscode": {
   "interpreter": {
    "hash": "bc1d07306176b222eaafa12c90663e0030376ae09cf08833d8be3832e6c88b0d"
   }
  }
 },
 "nbformat": 4,
 "nbformat_minor": 2
}
